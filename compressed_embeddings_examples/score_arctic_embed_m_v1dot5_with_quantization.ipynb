{
 "cells": [
  {
   "cell_type": "markdown",
   "id": "c6da107d-5646-4405-af1f-af31c3654556",
   "metadata": {},
   "source": [
    "# Overview\n",
    "\n",
    "This notebook demonstrates the high retrieval quality at small (128 byte) embedding vectors from the `snowflake-arctic-m-v1.5` model.\n",
    "\n",
    "We begin by loading the full 768-dimensional embeddings in full float32 precision (these precomputed embeddings are made available as a Huggingface dataset). We then demonstrate proper truncation with renormalization to unit norm, plus uniform scalar quantization to int4 datatype. The final result is a reproduction of our 53.7 MTEB retrieval score at 128 bytes per vector.\n",
    "\n",
    "## Int4 Quantization In Theory\n",
    "\n",
    "Given a floating point number $f$ and a min/max clipping limit $b$ (e.g. clipping to the range -0.18 to 0.18), uniform scalar quantization to $k$ levels (where $k = 16$ for a 4-bit quantization) will entail a spacing between levels of $c = 2 * b / (k - 1)$. If we term the integer result of this quantization $i$, we have the following mappings between float and integer:\n",
    "\n",
    "$$i = \\text{round}\\left(\\frac{f + b}{c}\\right)$$\n",
    "$$f \\approx c \\cdot i - b$$\n",
    "\n",
    "Furthermore, we can perform floating point multiplication via integers for a faster implementation:\n",
    "\n",
    "$$f_1 \\cdot f_2 \\approx (c i_1 - b)(c i_2 - b)$$\n",
    "$$f_1 \\cdot f_2 \\approx c^2 i_1 i_2 - c b (i_1 + i_2) + b^2$$\n",
    "\n",
    "When $c$ and $b$ are constant across all $f$'s, we can factor out the constants further. This final rearrangement show us how we can perform a vector dot product directly via integer arithmetic without unquantizing the vectors themselves:\n",
    "\n",
    "$$\\langle \\pmb{f}_1, \\pmb{f}_2 \\rangle = \\sum_{k=1}^{K}f_1^{(k)} \\cdot f_2^{(k)} \\approx \\sum_{k} \\left( c^2 i_1^{(k)} i_2^{(k)} - c b (i_1^{(k)} + i_2^{(k)}) + b^2 \\right)$$\n",
    "$$\\langle \\pmb{f}_1, \\pmb{f}_2 \\rangle \\approx c^2 \\cdot \\sum_{k} \\left(  i_1^{(k)} i_2^{(k)} \\right) - c b \\cdot \\sum_{k} \\left( i_1^{(k)} + i_2^{(k)} \\right) + \\sum_{k} \\left(b^2 \\right)$$\n",
    "$$\\langle \\pmb{f}_1, \\pmb{f}_2 \\rangle \\approx c^2 \\cdot \\sum_{k} \\left(  i_1^{(k)} i_2^{(k)} \\right)  - c b \\left( \\sum_{k} \\left( i_1^{(k)} \\right) + \\sum_{k} \\left( i_2^{(k)} \\right) \\right) + K \\cdot b^2 $$\n",
    "$$\\langle \\pmb{f}_1, \\pmb{f}_2 \\rangle \\approx c^2 \\cdot \\langle \\pmb{i}_1, \\pmb{i}_2 \\rangle  - c b \\left( \\text{sum}(\\pmb{i}_1) + \\text{sum}(\\pmb{i}_2) \\right) + K \\cdot b^2 $$\n",
    "\n",
    "\n",
    "## Int4 Quantization In Practice\n",
    "\n",
    "Using modern CPU hardware and [SIMD](https://en.wikipedia.org/wiki/Single_instruction,_multiple_data) programming, it is possible to perform the integer dot product $\\langle \\pmb{i}_1, \\pmb{i}_2 \\rangle$ and sum $ \\left( \\text{sum}(\\pmb{i}_1) + \\text{sum}(\\pmb{i}_2) \\right)$ very quickly. Indeed, an efficient implementation is liable to be bottlenecked by memory bandwidth itself (i.e. enabling the machine to perform vector similarity calculations as fast as the quantized vectors can be passed from RAM to CPU -- very fast indeed!). Since int4 quantization reduces the memory footprint of embedding vectors substantially, this means that quantization has the potential to not just reduce RAM requirements for storing large collections of vectors, but also to accelerate vector similarity calculations proportionally as well. \n",
    "\n",
    "In this notebook we don't try to push our hardware to the limit with optimizations in memory management and explicit SIMD CPU instructions. However, we do use some powerful Python-centric tools for fast numerical programming (`numba` and `cython`) to deliver a fairly performant (and still fairly readable) implementation that, coupled with the highly-optimized BLAS-based float32 vector similarity operation shipped in `numpy`, allows us to run a full MTEB Retrieval evaluation on both quantized and unquantized vectors in under half an hour on a MacBook Pro (M1 Max CPU)."
   ]
  },
  {
   "cell_type": "code",
   "execution_count": 1,
   "id": "a3aed8c9-bb75-4755-aa1a-557d2084fe84",
   "metadata": {},
   "outputs": [],
   "source": [
    "!pip install -q numpy pandas torch numba pytrec-eval pyarrow tqdm huggingface-hub beir Cython"
   ]
  },
  {
   "cell_type": "code",
   "execution_count": 2,
   "id": "02cb1499-5925-4496-a841-f4b96545e524",
   "metadata": {},
   "outputs": [],
   "source": [
    "%load_ext cython"
   ]
  },
  {
   "cell_type": "code",
   "execution_count": 3,
   "id": "d5c18971-f9f2-48b3-abdd-365a7ddcbc78",
   "metadata": {},
   "outputs": [],
   "source": [
    "import json\n",
    "import logging\n",
    "from multiprocessing.pool import ThreadPool\n",
    "from multiprocessing import cpu_count\n",
    "from pathlib import Path\n",
    "from typing import cast\n",
    "\n",
    "import huggingface_hub\n",
    "import numba\n",
    "import numpy as np\n",
    "import pandas as pd\n",
    "import pytrec_eval\n",
    "import pyarrow as pa\n",
    "import pyarrow.parquet as pq\n",
    "import torch\n",
    "import torch.nn.functional as F\n",
    "from beir.retrieval.evaluation import EvaluateRetrieval\n",
    "from numpy.typing import NDArray\n",
    "from tqdm.auto import tqdm\n",
    "\n",
    "# Alias this static evalution function for standalone use.\n",
    "beir_evaluate = EvaluateRetrieval.evaluate"
   ]
  },
  {
   "cell_type": "code",
   "execution_count": 4,
   "id": "1fbd2611-b058-416a-b8d4-b6ada8e68f84",
   "metadata": {},
   "outputs": [],
   "source": [
    "# Global config.\n",
    "EMBEDDINGS_DATASET_ID = \"Snowflake/mteb-retrieval-snowflake-arctic-embed-m-v1.5\"\n",
    "COLUMN_DOC_ID = \"DOC_ID\"\n",
    "COLUMN_QUERY_ID = \"QUERY_ID\"\n",
    "COLUMN_VECTOR = \"VECTOR_MAIN\"\n",
    "SCALAR_QUANTIZATION_LIMIT_4BIT = 0.18  # This global constant is all you need to effectively 4-bit quantize snowflake-arctic-embed-m-v1.5!\n",
    "SCALAR_QUANTIZATION_LIMIT_8BIT = 0.3  # This global constant is all you need to effectively 8-bit quantize snowflake-arctic-embed-m-v1.5!\n",
    "TRUNCATION_DIM = 256"
   ]
  },
  {
   "cell_type": "code",
   "execution_count": 5,
   "id": "b4511e4a-f7ae-4918-95e0-c06477c92178",
   "metadata": {},
   "outputs": [],
   "source": [
    "%%cython --compile-args=-fopenmp --link-args=-fopenmp\n",
    "\n",
    "# Compiled and parallelized integer-arithmetic-based quantized dotproduct operations\n",
    "# designed to run pretty fast (not nearly as optimized as true BLAS systems).\n",
    "\n",
    "import cython\n",
    "from cython.parallel import prange\n",
    "\n",
    "@cython.boundscheck(False)\n",
    "@cython.wraparound(False)\n",
    "def inner_query_doc_8bit_dotproduct_cython(\n",
    "    cython.float[:, ::1] out,\n",
    "    cython.char[:, ::1] query,\n",
    "    cython.char[:, ::1] doc,\n",
    "    cython.float limit,\n",
    "    cython.long n,\n",
    "    cython.long m,\n",
    "    cython.long d\n",
    "):\n",
    "    cdef cython.float bin_width = 2 * limit / 255\n",
    "    cdef cython.int i, j, k\n",
    "    cdef cython.char qv, dv\n",
    "    cdef cython.uint sum_of_sums, sum_of_prods\n",
    "    for j in prange(m, nogil=True):  # NOTE: We paralellize over docs to support parallel single-query runs.\n",
    "        for i in range(n):\n",
    "            sum_of_sums = 0\n",
    "            sum_of_prods = 0\n",
    "            for k in range(d):\n",
    "                # Unpack the values from this byte.\n",
    "                qv = query[i, k]\n",
    "                dv = doc[j, k]\n",
    "\n",
    "                # Accumulate running statistics.\n",
    "                sum_of_sums = sum_of_sums + qv + dv\n",
    "                sum_of_prods = sum_of_prods + qv * dv\n",
    "\n",
    "            # Convert from integer statistics back to floating point.\n",
    "            out[i, j] = (\n",
    "                limit * limit * float(d)\n",
    "                - limit * bin_width * float(sum_of_sums)\n",
    "                + bin_width * bin_width * float(sum_of_prods)\n",
    "            )\n",
    "\n",
    "@cython.boundscheck(False)\n",
    "@cython.wraparound(False)\n",
    "def inner_query_doc_4bit_dotproduct_cython(\n",
    "    cython.float[:, ::1] out,\n",
    "    cython.char[:, ::1] query,\n",
    "    cython.char[:, ::1] doc,\n",
    "    cython.float limit,\n",
    "    cython.long n,\n",
    "    cython.long m,\n",
    "    cython.long d_packed\n",
    "):\n",
    "    cdef cython.float bin_width = 2 * limit / 15\n",
    "    cdef cython.int i, j, k\n",
    "    cdef cython.char qv1, qv2, dv1, dv2\n",
    "    cdef cython.uint sum_of_sums, sum_of_prods\n",
    "    for j in prange(m, nogil=True):  # NOTE: We paralellize over docs to support parallel single-query runs.\n",
    "        for i in range(n):\n",
    "            sum_of_sums = 0\n",
    "            sum_of_prods = 0\n",
    "            for k in range(d_packed):\n",
    "                # Unpack the values from this byte.\n",
    "                qv1 = query[i, k] >> 4\n",
    "                qv2 = query[i, k] & 0b1111\n",
    "                dv1 = doc[j, k] >> 4\n",
    "                dv2 = doc[j, k] & 0b1111\n",
    "\n",
    "                # Accumulate running statistics.\n",
    "                sum_of_sums = sum_of_sums + qv1 + dv1 + qv2 + dv2\n",
    "                sum_of_prods = sum_of_prods + qv1 * dv1 + qv2 * dv2\n",
    "\n",
    "            # Convert from integer statistics back to floating point.\n",
    "            out[i, j] = (\n",
    "                limit * limit * float(2 * d_packed)\n",
    "                - limit * bin_width * float(sum_of_sums)\n",
    "                + bin_width * bin_width * float(sum_of_prods)\n",
    "            )"
   ]
  },
  {
   "cell_type": "code",
   "execution_count": 6,
   "id": "17b7c154-8d79-4441-956a-3194ef5076f4",
   "metadata": {},
   "outputs": [],
   "source": [
    "# Utility functions.\n",
    "\n",
    "#### BEGIN LOADING EMBEDDINGS ####\n",
    "\n",
    "def load_embeddings(\n",
    "    pq_paths: list[Path],\n",
    "    id_column_name: str,\n",
    "    vector_column_name: str = COLUMN_VECTOR,\n",
    "    truncate_dim: int | None = None,\n",
    "    num_read_threads: int = 10,\n",
    ") -> tuple[list[str], NDArray[np.float32]]:\n",
    "    total_rows = _total_rows(pq_paths)\n",
    "    vector_chunks = []\n",
    "    ids = []\n",
    "    with tqdm(total=total_rows, unit=\"row\", desc=\"Loading embeddings from disk\") as pbar, ThreadPool(num_read_threads) as pool:\n",
    "        table_iter = pool.imap(pq.read_table, pq_paths)\n",
    "        for table in table_iter:\n",
    "            id_chunk = table[id_column_name].to_pylist()\n",
    "            vector_chunk = _pa_vector_column_to_np_matrix(table[vector_column_name])\n",
    "            if truncate_dim is not None:\n",
    "                vector_chunk = truncate_embeddings(vector_chunk, truncate_dim)\n",
    "            assert len(id_chunk) == vector_chunk.shape[0]\n",
    "            ids.extend(id_chunk)\n",
    "            vector_chunks.append(vector_chunk)\n",
    "            pbar.update(len(id_chunk))\n",
    "    return ids, np.row_stack(vector_chunks)\n",
    "\n",
    "def _pa_vector_column_to_np_matrix(pa_array: pa.ChunkedArray) -> NDArray[np.float32]:\n",
    "    embed_dim = len(pa_array[0])\n",
    "    res = pa_array.combine_chunks().flatten().to_numpy().reshape(-1, embed_dim)\n",
    "    return cast(NDArray[np.float32], res)\n",
    "\n",
    "\n",
    "def _normalize_embeddings(embedings_matrix: NDArray[np.float32]) -> NDArray[np.float32]:\n",
    "    \"\"\"Normalize embeddings to unit norm along axis 1.\"\"\"\n",
    "    return cast(\n",
    "        NDArray[np.float32], F.normalize(torch.tensor(embedings_matrix), dim=1).numpy()\n",
    "    )\n",
    "\n",
    "def truncate_embeddings(embedings_matrix: NDArray[np.float32], dim: int) -> NDArray[np.float32]:\n",
    "    \"\"\"Truncate and renomalize embeddings to lower dimensionality.\"\"\"\n",
    "    assert dim <= embedings_matrix.shape[1]\n",
    "    return _normalize_embeddings(embedings_matrix[:, :dim])\n",
    "\n",
    "def _total_rows(pq_paths: list[Path]) -> int:\n",
    "    total = 0\n",
    "    for p in pq_paths:\n",
    "        with pq.ParquetFile(p) as pqf:\n",
    "            total += pqf.metadata.num_rows\n",
    "    return total\n",
    "\n",
    "\n",
    "#### BEGIN QUANTIZATION ####\n",
    "\n",
    "@numba.njit(error_model=\"numpy\", parallel=True)\n",
    "def fast_8bit_uniform_scalar_quantize(\n",
    "    emb_matrix: NDArray[np.float32], limit: float\n",
    ") -> NDArray[np.uint8]:\n",
    "    num_row, num_col = emb_matrix.shape\n",
    "    assert limit > 0\n",
    "    out = np.empty((num_row, num_col), dtype=np.uint8)\n",
    "    bin_width = 2 * limit / 255\n",
    "    for i in numba.prange(num_row):\n",
    "        for j in range(num_col):\n",
    "            out[i, j] = round(max(0, min(2 * limit, limit + emb_matrix[i, j])) / bin_width)\n",
    "    return out\n",
    "\n",
    "\n",
    "@numba.njit(error_model=\"numpy\", parallel=True)\n",
    "def fast_4bit_uniform_scalar_quantize(\n",
    "    emb_matrix: NDArray[np.float32], limit: float\n",
    ") -> NDArray[np.uint8]:\n",
    "    num_row, num_col = emb_matrix.shape\n",
    "    assert num_col % 2 == 0\n",
    "    assert limit > 0\n",
    "    out = np.empty((num_row, num_col // 2), dtype=np.uint8)\n",
    "    bin_width = 2 * limit / 15\n",
    "    for i in numba.prange(num_row):\n",
    "        row = emb_matrix[i, :]\n",
    "        for out_j in range(num_col // 2):\n",
    "            # Pull out two values at a time.\n",
    "            in_j = out_j * 2\n",
    "            value1 = row[in_j]\n",
    "            value2 = row[in_j + 1]\n",
    "\n",
    "            # 4-bit quantize the values.\n",
    "            value1 = round(max(0, min(2 * limit, limit + value1)) / bin_width)\n",
    "            value2 = round(max(0, min(2 * limit, limit + value2)) / bin_width)\n",
    "\n",
    "            # Pack the values into a single uint8.\n",
    "            value_packed = (value1 << 4) | value2\n",
    "            out[i, out_j] = value_packed\n",
    "    return out\n",
    "\n",
    "\n",
    "def fast_multi_query_4bit_dotproduct(\n",
    "    query_emb_quant: NDArray[np.uint8], doc_emb_quant: NDArray[np.uint8], limit: float\n",
    ") -> NDArray[np.uint32]:\n",
    "    num_query, dim_packed = query_emb_quant.shape\n",
    "    num_doc, dim_packed2 = doc_emb_quant.shape\n",
    "    assert dim_packed == dim_packed2\n",
    "    assert limit > 0\n",
    "    assert query_emb_quant.flags.c_contiguous\n",
    "    assert doc_emb_quant.flags.c_contiguous\n",
    "    out = np.zeros((num_query, num_doc), dtype=np.float32)\n",
    "    inner_query_doc_4bit_dotproduct_cython(out, query_emb_quant, doc_emb_quant, limit, num_query, num_doc, dim_packed)\n",
    "    return out\n",
    "\n",
    "\n",
    "def fast_multi_query_8bit_dotproduct(\n",
    "    query_emb_quant: NDArray[np.uint8], doc_emb_quant: NDArray[np.uint8], limit: float\n",
    ") -> NDArray[np.uint32]:\n",
    "    num_query, dim = query_emb_quant.shape\n",
    "    num_doc, dim2 = doc_emb_quant.shape\n",
    "    assert dim == dim2\n",
    "    assert limit > 0\n",
    "    assert query_emb_quant.flags.c_contiguous\n",
    "    assert doc_emb_quant.flags.c_contiguous\n",
    "    out = np.zeros((num_query, num_doc), dtype=np.float32)\n",
    "    inner_query_doc_8bit_dotproduct_cython(out, query_emb_quant, doc_emb_quant, limit, num_query, num_doc, dim)\n",
    "    return out\n",
    "\n",
    "\n",
    "#### BEGIN RETRIEVAL AND IR EVALUATION ####\n",
    "\n",
    "def load_mteb_qrels(task_name: str) -> dict:\n",
    "    path = embeddings_dataset_path / \"_qrels\" / f\"{task_name}.json\"\n",
    "    return json.loads(path.read_text())\n",
    "\n",
    "# NOTE: Without `numba` JIT compiling, this function can be quite slow and take a *ton* of RAM at large batch sizes.\n",
    "@numba.njit(error_model=\"numpy\", parallel=True)\n",
    "def sorted_indices_and_scores(scores: NDArray[np.float32], depth: int) -> tuple[NDArray[np.int64], NDArray[np.float32]]:\n",
    "    idx_argpartition = np.argpartition(scores, -depth, axis=1)\n",
    "    topk_indices_slice = idx_argpartition[:, -depth:]\n",
    "    topk_scores = np.take_along_axis(scores_slice, topk_indices_slice, axis=1)\n",
    "    idx_argsort = np.argsort(-topk_scores)\n",
    "    topk_indices_sorted = np.take_along_axis(topk_indices_slice, idx_argsort, axis=1)\n",
    "    topk_scores_sorted = np.take_along_axis(topk_scores, idx_argsort, axis=1)\n",
    "    return topk_indices_sorted, topk_scores_sorted\n",
    "\n",
    "\n",
    "def dense_retrieval(\n",
    "    query_ids: list[str],\n",
    "    doc_ids: list[str],\n",
    "    query_embeddings: NDArray[np.float32],\n",
    "    doc_embeddings: NDArray[np.float32],\n",
    "    retrieval_depth: int,\n",
    "    quantize_8bit_with_limit: float | None = None,\n",
    "    quantize_4bit_with_limit: float | None = None,\n",
    "    batch_size: int = 64,\n",
    ") -> dict[str, dict[str, float]]:\n",
    "    \"\"\"Perform dense retrieval with a set of ids and embeddings to get query results.\"\"\"\n",
    "    assert quantize_4bit_with_limit is None or quantize_8bit_with_limit is None, \"Pick one, either 4bit or 8bit, not both\"\n",
    "    if quantize_4bit_with_limit is not None:\n",
    "        query_embeddings = fast_4bit_uniform_scalar_quantize(query_embeddings, quantize_4bit_with_limit)\n",
    "        doc_embeddings = fast_4bit_uniform_scalar_quantize(doc_embeddings, quantize_4bit_with_limit)\n",
    "    elif quantize_8bit_with_limit is not None:\n",
    "        query_embeddings = fast_8bit_uniform_scalar_quantize(query_embeddings, quantize_8bit_with_limit)\n",
    "        doc_embeddings = fast_8bit_uniform_scalar_quantize(doc_embeddings, quantize_8bit_with_limit)\n",
    "    \n",
    "    query_results = {}\n",
    "    num_queries, num_docs = query_embeddings.shape[0], doc_embeddings.shape[0]\n",
    "    retrieval_depth = min(retrieval_depth, num_docs)\n",
    "\n",
    "    batch_slices = [slice(start_i, start_i + batch_size) for start_i in range(0, num_queries, batch_size)]\n",
    "    with tqdm(total=num_queries, desc=\"dense retrieval\", unit=\"query\") as pbar:\n",
    "        for batch_slice in batch_slices:\n",
    "            q_emb_slice = query_embeddings[batch_slice]\n",
    "            if quantize_4bit_with_limit is not None:\n",
    "                scores_slice = fast_multi_query_4bit_dotproduct(q_emb_slice, doc_embeddings, quantize_4bit_with_limit)\n",
    "            elif quantize_8bit_with_limit is not None:\n",
    "                scores_slice = fast_multi_query_8bit_dotproduct(q_emb_slice, doc_embeddings, quantize_8bit_with_limit)\n",
    "            else:\n",
    "                scores_slice = q_emb_slice @ doc_embeddings.T\n",
    "                \n",
    "            # Get indices and values of top-k scores.\n",
    "            topk = torch.topk(torch.tensor(scores_slice), retrieval_depth)\n",
    "            topk_indices_sorted = topk.indices.numpy()\n",
    "            topk_scores_sorted = topk.values.numpy()\n",
    "    \n",
    "            # Convert each set of scores in the slice to a top-k dictionary.\n",
    "            query_ids_slice = query_ids[batch_slice]\n",
    "            for slice_offset in range(scores_slice.shape[0]):\n",
    "                # Populate the results dictionary.\n",
    "                query_id = query_ids_slice[slice_offset]\n",
    "                sorted_doc_ids = [doc_ids[idx] for idx in topk_indices_sorted[slice_offset]]\n",
    "                query_results[query_id] = dict(zip(sorted_doc_ids, topk_scores_sorted[slice_offset].tolist()))\n",
    "            pbar.update(len(query_ids_slice))\n",
    "\n",
    "    return query_results"
   ]
  },
  {
   "cell_type": "code",
   "execution_count": 7,
   "id": "2e3883f8-f5de-4868-bd12-920c889dd670",
   "metadata": {
    "scrolled": true
   },
   "outputs": [
    {
     "data": {
      "application/vnd.jupyter.widget-view+json": {
       "model_id": "dc2e7c7e67a7487a903f976459e83134",
       "version_major": 2,
       "version_minor": 0
      },
      "text/plain": [
       "Fetching 597 files:   0%|          | 0/597 [00:00<?, ?it/s]"
      ]
     },
     "metadata": {},
     "output_type": "display_data"
    }
   ],
   "source": [
    "# Download the precomputed embeddings for MTEB Retrieval.\n",
    "# NOTE: The full dataset is around ~100GB.\n",
    "\n",
    "# # Example of downloading a subset of datasets.\n",
    "# dataset_subset = [\"NFCorpus\", \"FiQA2018\"]\n",
    "# embeddings_dataset_path_str = huggingface_hub.snapshot_download(\n",
    "#     repo_id=EMBEDDINGS_DATASET_ID,\n",
    "#     repo_type=\"dataset\",\n",
    "#     allow_patterns=[\"_qrels/*\"] + [f\"{x}/*\" for x in dataset_subset],\n",
    "# )\n",
    "\n",
    "embeddings_dataset_path_str = huggingface_hub.snapshot_download(\n",
    "    repo_id=EMBEDDINGS_DATASET_ID, repo_type=\"dataset\"\n",
    ")\n",
    "embeddings_dataset_path = Path(embeddings_dataset_path_str)"
   ]
  },
  {
   "cell_type": "markdown",
   "id": "e7247902-0e54-4d65-9525-158ab2662947",
   "metadata": {},
   "source": [
    "# Demonstration of retrieval on a single dataset"
   ]
  },
  {
   "cell_type": "code",
   "execution_count": 8,
   "id": "b43a15d6-c3c7-4969-b7ac-63612c777be6",
   "metadata": {},
   "outputs": [
    {
     "data": {
      "application/vnd.jupyter.widget-view+json": {
       "model_id": "3060c19d38eb4661a3c6e85f00b34107",
       "version_major": 2,
       "version_minor": 0
      },
      "text/plain": [
       "Loading embeddings from disk:   0%|          | 0/522931 [00:00<?, ?row/s]"
      ]
     },
     "metadata": {},
     "output_type": "display_data"
    },
    {
     "data": {
      "application/vnd.jupyter.widget-view+json": {
       "model_id": "a89fa9cc652347aaa1d10e7b3647de43",
       "version_major": 2,
       "version_minor": 0
      },
      "text/plain": [
       "Loading embeddings from disk:   0%|          | 0/10000 [00:00<?, ?row/s]"
      ]
     },
     "metadata": {},
     "output_type": "display_data"
    }
   ],
   "source": [
    "example_dataset = \"QuoraRetrieval\"\n",
    "emb_dir = embeddings_dataset_path / example_dataset / \"embeddings\"\n",
    "doc_emb_file_paths = sorted(emb_dir.glob(\"documents*.parquet\"))\n",
    "query_emb_file_paths = sorted(emb_dir.glob(\"queries*.parquet\"))\n",
    "doc_ids, doc_emb = load_embeddings(doc_emb_file_paths, id_column_name=COLUMN_DOC_ID, truncate_dim=TRUNCATION_DIM)\n",
    "query_ids, query_emb = load_embeddings(query_emb_file_paths, id_column_name=COLUMN_QUERY_ID, truncate_dim=TRUNCATION_DIM)"
   ]
  },
  {
   "cell_type": "code",
   "execution_count": 9,
   "id": "f5d9fb01-fd7f-4738-81b8-1b17b599c6e2",
   "metadata": {},
   "outputs": [
    {
     "data": {
      "application/vnd.jupyter.widget-view+json": {
       "model_id": "7389e4a347f041baa9edafdd4b5b2b8a",
       "version_major": 2,
       "version_minor": 0
      },
      "text/plain": [
       "dense retrieval:   0%|          | 0/10000 [00:00<?, ?query/s]"
      ]
     },
     "metadata": {},
     "output_type": "display_data"
    },
    {
     "name": "stdout",
     "output_type": "stream",
     "text": [
      "CPU times: user 3min 22s, sys: 17.7 s, total: 3min 40s\n",
      "Wall time: 23.7 s\n"
     ]
    }
   ],
   "source": [
    "%%time\n",
    "scores = dense_retrieval(query_ids, doc_ids, query_emb, doc_emb, retrieval_depth=10)"
   ]
  },
  {
   "cell_type": "code",
   "execution_count": 10,
   "id": "0160d97f-7ae8-4846-9f33-ecf9e52109e2",
   "metadata": {},
   "outputs": [
    {
     "data": {
      "application/vnd.jupyter.widget-view+json": {
       "model_id": "dfb35d6215724c6f8d7d8077ebfc2c46",
       "version_major": 2,
       "version_minor": 0
      },
      "text/plain": [
       "dense retrieval:   0%|          | 0/10000 [00:00<?, ?query/s]"
      ]
     },
     "metadata": {},
     "output_type": "display_data"
    },
    {
     "name": "stdout",
     "output_type": "stream",
     "text": [
      "CPU times: user 2min 59s, sys: 23.5 s, total: 3min 23s\n",
      "Wall time: 27.7 s\n"
     ]
    }
   ],
   "source": [
    "%%time\n",
    "# NOTE: This retrieval isn't super fast because our code for int8 matmuls is\n",
    "# less optimized than the stock float32 matmul code (BLAS) that powers floating point dense retrieval.\n",
    "scores_quant_8bit = dense_retrieval(\n",
    "    query_ids,\n",
    "    doc_ids,\n",
    "    query_emb,\n",
    "    doc_emb,\n",
    "    retrieval_depth=10,\n",
    "    quantize_8bit_with_limit=SCALAR_QUANTIZATION_LIMIT_8BIT,\n",
    ")"
   ]
  },
  {
   "cell_type": "code",
   "execution_count": 11,
   "id": "fafc12bb-9cc3-4cb9-b7ee-e95b36d54ef4",
   "metadata": {},
   "outputs": [
    {
     "data": {
      "application/vnd.jupyter.widget-view+json": {
       "model_id": "018b0d6a803f4895879b170a7a262356",
       "version_major": 2,
       "version_minor": 0
      },
      "text/plain": [
       "dense retrieval:   0%|          | 0/10000 [00:00<?, ?query/s]"
      ]
     },
     "metadata": {},
     "output_type": "display_data"
    },
    {
     "name": "stdout",
     "output_type": "stream",
     "text": [
      "CPU times: user 2min 16s, sys: 22.4 s, total: 2min 38s\n",
      "Wall time: 25.6 s\n"
     ]
    }
   ],
   "source": [
    "%%time\n",
    "# NOTE: This retrieval isn't super fast because our code for int4 matmuls is\n",
    "# less optimized than the stock float32 matmul code (BLAS) that powers floating point dense retrieval.\n",
    "scores_quant_4bit = dense_retrieval(\n",
    "    query_ids,\n",
    "    doc_ids,\n",
    "    query_emb,\n",
    "    doc_emb,\n",
    "    retrieval_depth=10,\n",
    "    quantize_4bit_with_limit=SCALAR_QUANTIZATION_LIMIT_4BIT,\n",
    ")"
   ]
  },
  {
   "cell_type": "code",
   "execution_count": 12,
   "id": "c29b0412-c4cb-4ecf-8b72-1126e77488be",
   "metadata": {},
   "outputs": [
    {
     "data": {
      "text/plain": [
       "(0.8717, 0.87201, 0.86837)"
      ]
     },
     "execution_count": 12,
     "metadata": {},
     "output_type": "execute_result"
    }
   ],
   "source": [
    "qrel = load_mteb_qrels(example_dataset)\n",
    "score_unquant = beir_evaluate(qrel, scores, k_values=[10])[0][\"NDCG@10\"]\n",
    "score_quant_8bit = beir_evaluate(qrel, scores_quant_8bit, k_values=[10])[0][\"NDCG@10\"]\n",
    "score_quant_4bit = beir_evaluate(qrel, scores_quant_4bit, k_values=[10])[0][\"NDCG@10\"]\n",
    "score_unquant, score_quant_8bit, score_quant_4bit"
   ]
  },
  {
   "cell_type": "markdown",
   "id": "4ff431e1-cf6f-46d0-91b5-3582fdf3e373",
   "metadata": {},
   "source": [
    "# Single-query speedup example\n",
    "\n",
    "Our \"casual\" integer-quantized dotproduct implementations don't actually keep up with the highly-tuned BLAS system that numpy uses for float32 matrix multiplication when it comes to the batch retrieval above. However, on the easier-to-optimize vector-matrix multiplication used for single-query lookup (which is what's actually the most common case in live retrieval systems!), our implementation does start to hint at the runtime improvements possible."
   ]
  },
  {
   "cell_type": "code",
   "execution_count": 13,
   "id": "473f75ef-b3ce-404d-9218-e84ffc2b4bac",
   "metadata": {},
   "outputs": [],
   "source": [
    "q_vec = query_emb[0]"
   ]
  },
  {
   "cell_type": "code",
   "execution_count": 14,
   "id": "11176b35-1376-4652-952b-42f65d6bf16a",
   "metadata": {},
   "outputs": [
    {
     "name": "stdout",
     "output_type": "stream",
     "text": [
      "10.4 ms ± 2.37 ms per loop (mean ± std. dev. of 7 runs, 100 loops each)\n"
     ]
    }
   ],
   "source": [
    "%%timeit\n",
    "_ = q_vec[None, :] @ doc_emb.T"
   ]
  },
  {
   "cell_type": "code",
   "execution_count": 15,
   "id": "d825ff58-cbe5-4ad2-969d-fc95deeb81e8",
   "metadata": {},
   "outputs": [],
   "source": [
    "q_vec_quant_8bit = fast_8bit_uniform_scalar_quantize(q_vec[None, :], SCALAR_QUANTIZATION_LIMIT_8BIT)\n",
    "doc_emb_quant_8bit = fast_8bit_uniform_scalar_quantize(doc_emb, SCALAR_QUANTIZATION_LIMIT_8BIT)\n",
    "q_vec_quant_4bit = fast_4bit_uniform_scalar_quantize(q_vec[None, :], SCALAR_QUANTIZATION_LIMIT_4BIT)\n",
    "doc_emb_quant_4bit = fast_4bit_uniform_scalar_quantize(doc_emb, SCALAR_QUANTIZATION_LIMIT_4BIT)"
   ]
  },
  {
   "cell_type": "code",
   "execution_count": 16,
   "id": "1a79c01d-f67d-4bb4-8a38-7b2515fa4832",
   "metadata": {},
   "outputs": [
    {
     "name": "stdout",
     "output_type": "stream",
     "text": [
      "3.96 ms ± 808 µs per loop (mean ± std. dev. of 7 runs, 100 loops each)\n"
     ]
    }
   ],
   "source": [
    "%%timeit\n",
    "_ = fast_multi_query_8bit_dotproduct(q_vec_quant_8bit, doc_emb_quant_8bit, SCALAR_QUANTIZATION_LIMIT_8BIT)"
   ]
  },
  {
   "cell_type": "code",
   "execution_count": 17,
   "id": "5d166e92-fc16-4ff7-8b81-0862d1fbdf1b",
   "metadata": {},
   "outputs": [
    {
     "name": "stdout",
     "output_type": "stream",
     "text": [
      "2.6 ms ± 193 µs per loop (mean ± std. dev. of 7 runs, 100 loops each)\n"
     ]
    }
   ],
   "source": [
    "%%timeit\n",
    "_ = fast_multi_query_4bit_dotproduct(q_vec_quant_4bit, doc_emb_quant_4bit, SCALAR_QUANTIZATION_LIMIT_4BIT)"
   ]
  },
  {
   "cell_type": "code",
   "execution_count": 18,
   "id": "75b259b7-5020-4274-abb8-2952ae2ca558",
   "metadata": {},
   "outputs": [
    {
     "name": "stdout",
     "output_type": "stream",
     "text": [
      "Relative error 8bit μ ± σ: 0.27% ± 0.24%\n",
      "Relative error 4bit μ ± σ: 2.99% ± 2.59%\n"
     ]
    }
   ],
   "source": [
    "unquant_scores = q_vec @ doc_emb.T\n",
    "quant_scores_8bit = fast_multi_query_8bit_dotproduct(q_vec_quant_8bit, doc_emb_quant_8bit, SCALAR_QUANTIZATION_LIMIT_8BIT)\n",
    "quant_scores_4bit = fast_multi_query_4bit_dotproduct(q_vec_quant_4bit, doc_emb_quant_4bit, SCALAR_QUANTIZATION_LIMIT_4BIT)\n",
    "relative_error_8bit = np.abs(unquant_scores - quant_scores_8bit) / unquant_scores\n",
    "relative_error_4bit = np.abs(unquant_scores - quant_scores_4bit) / unquant_scores\n",
    "print(f\"Relative error 8bit μ ± σ: {relative_error_8bit.mean():.2%} ± {relative_error_8bit.std():.2%}\")\n",
    "print(f\"Relative error 4bit μ ± σ: {relative_error_4bit.mean():.2%} ± {relative_error_4bit.std():.2%}\")"
   ]
  },
  {
   "cell_type": "markdown",
   "id": "6dfbd2e2-2277-483e-b161-7426df45c37d",
   "metadata": {},
   "source": [
    "# Score all the datasets\n",
    "\n",
    "Below we provide a reproducible implementation of int4 compressed retrieval quality scoring to show how `snowflake-arctic-embed-m-v1.5` is capable of achieving a 53.7 MTEB Retrieval score in just 128 bytes per vector. "
   ]
  },
  {
   "cell_type": "code",
   "execution_count": 19,
   "id": "791543bb-35a2-4152-b143-2a22c4733a29",
   "metadata": {},
   "outputs": [
    {
     "name": "stdout",
     "output_type": "stream",
     "text": [
      "Scoring: ['ArguAna', 'CQADupstackAndroidRetrieval', 'CQADupstackEnglishRetrieval', 'CQADupstackGamingRetrieval', 'CQADupstackGisRetrieval', 'CQADupstackMathematicaRetrieval', 'CQADupstackPhysicsRetrieval', 'CQADupstackProgrammersRetrieval', 'CQADupstackStatsRetrieval', 'CQADupstackTexRetrieval', 'CQADupstackUnixRetrieval', 'CQADupstackWebmastersRetrieval', 'CQADupstackWordpressRetrieval', 'ClimateFEVER', 'DBPedia', 'FEVER', 'FiQA2018', 'HotpotQA', 'MSMARCO', 'NFCorpus', 'NQ', 'QuoraRetrieval', 'SCIDOCS', 'SciFact', 'TRECCOVID', 'Touche2020']\n"
     ]
    },
    {
     "data": {
      "application/vnd.jupyter.widget-view+json": {
       "model_id": "50a9b58e2ff24820a6520cff1697c9b2",
       "version_major": 2,
       "version_minor": 0
      },
      "text/plain": [
       "  0%|          | 0/26 [00:00<?, ?it/s]"
      ]
     },
     "metadata": {},
     "output_type": "display_data"
    },
    {
     "name": "stdout",
     "output_type": "stream",
     "text": [
      "ArguAna\n"
     ]
    },
    {
     "data": {
      "application/vnd.jupyter.widget-view+json": {
       "model_id": "842e5bba5a3f436184bab0603ad32e37",
       "version_major": 2,
       "version_minor": 0
      },
      "text/plain": [
       "Loading embeddings from disk:   0%|          | 0/8674 [00:00<?, ?row/s]"
      ]
     },
     "metadata": {},
     "output_type": "display_data"
    },
    {
     "data": {
      "application/vnd.jupyter.widget-view+json": {
       "model_id": "bdc2c3534eb7407594aac19d6a86e094",
       "version_major": 2,
       "version_minor": 0
      },
      "text/plain": [
       "Loading embeddings from disk:   0%|          | 0/1406 [00:00<?, ?row/s]"
      ]
     },
     "metadata": {},
     "output_type": "display_data"
    },
    {
     "data": {
      "application/vnd.jupyter.widget-view+json": {
       "model_id": "76d9ceb7626341679e635d1ae4cf4547",
       "version_major": 2,
       "version_minor": 0
      },
      "text/plain": [
       "dense retrieval:   0%|          | 0/1406 [00:00<?, ?query/s]"
      ]
     },
     "metadata": {},
     "output_type": "display_data"
    },
    {
     "data": {
      "application/vnd.jupyter.widget-view+json": {
       "model_id": "e052b77451da48b89a80d32794e551ad",
       "version_major": 2,
       "version_minor": 0
      },
      "text/plain": [
       "dense retrieval:   0%|          | 0/1406 [00:00<?, ?query/s]"
      ]
     },
     "metadata": {},
     "output_type": "display_data"
    },
    {
     "data": {
      "application/vnd.jupyter.widget-view+json": {
       "model_id": "e0be4df98f0c49dcab5923bc0615f567",
       "version_major": 2,
       "version_minor": 0
      },
      "text/plain": [
       "dense retrieval:   0%|          | 0/1406 [00:00<?, ?query/s]"
      ]
     },
     "metadata": {},
     "output_type": "display_data"
    },
    {
     "name": "stdout",
     "output_type": "stream",
     "text": [
      "CQADupstackAndroidRetrieval\n"
     ]
    },
    {
     "data": {
      "application/vnd.jupyter.widget-view+json": {
       "model_id": "ddf53041d5fd46e1a4a5267be8e08789",
       "version_major": 2,
       "version_minor": 0
      },
      "text/plain": [
       "Loading embeddings from disk:   0%|          | 0/22998 [00:00<?, ?row/s]"
      ]
     },
     "metadata": {},
     "output_type": "display_data"
    },
    {
     "data": {
      "application/vnd.jupyter.widget-view+json": {
       "model_id": "40ebe5fa994041d08f9d31349381ebfa",
       "version_major": 2,
       "version_minor": 0
      },
      "text/plain": [
       "Loading embeddings from disk:   0%|          | 0/699 [00:00<?, ?row/s]"
      ]
     },
     "metadata": {},
     "output_type": "display_data"
    },
    {
     "data": {
      "application/vnd.jupyter.widget-view+json": {
       "model_id": "c6cb9f2e4f8e459388ab763ce9edb764",
       "version_major": 2,
       "version_minor": 0
      },
      "text/plain": [
       "dense retrieval:   0%|          | 0/699 [00:00<?, ?query/s]"
      ]
     },
     "metadata": {},
     "output_type": "display_data"
    },
    {
     "data": {
      "application/vnd.jupyter.widget-view+json": {
       "model_id": "54bdb4ad23f44811a55450a2b956449f",
       "version_major": 2,
       "version_minor": 0
      },
      "text/plain": [
       "dense retrieval:   0%|          | 0/699 [00:00<?, ?query/s]"
      ]
     },
     "metadata": {},
     "output_type": "display_data"
    },
    {
     "data": {
      "application/vnd.jupyter.widget-view+json": {
       "model_id": "2cf103b13d2442a2817b54382a9f7899",
       "version_major": 2,
       "version_minor": 0
      },
      "text/plain": [
       "dense retrieval:   0%|          | 0/699 [00:00<?, ?query/s]"
      ]
     },
     "metadata": {},
     "output_type": "display_data"
    },
    {
     "name": "stdout",
     "output_type": "stream",
     "text": [
      "CQADupstackEnglishRetrieval\n"
     ]
    },
    {
     "data": {
      "application/vnd.jupyter.widget-view+json": {
       "model_id": "d74e7afe2ebe4e75a4d156fd49cabcbf",
       "version_major": 2,
       "version_minor": 0
      },
      "text/plain": [
       "Loading embeddings from disk:   0%|          | 0/40221 [00:00<?, ?row/s]"
      ]
     },
     "metadata": {},
     "output_type": "display_data"
    },
    {
     "data": {
      "application/vnd.jupyter.widget-view+json": {
       "model_id": "90b5df7626464266affe53a139bf87e5",
       "version_major": 2,
       "version_minor": 0
      },
      "text/plain": [
       "Loading embeddings from disk:   0%|          | 0/1570 [00:00<?, ?row/s]"
      ]
     },
     "metadata": {},
     "output_type": "display_data"
    },
    {
     "data": {
      "application/vnd.jupyter.widget-view+json": {
       "model_id": "87637f3b3db743a8bf84eba91b957561",
       "version_major": 2,
       "version_minor": 0
      },
      "text/plain": [
       "dense retrieval:   0%|          | 0/1570 [00:00<?, ?query/s]"
      ]
     },
     "metadata": {},
     "output_type": "display_data"
    },
    {
     "data": {
      "application/vnd.jupyter.widget-view+json": {
       "model_id": "4ce963d365ba419d98cf8764feb1b071",
       "version_major": 2,
       "version_minor": 0
      },
      "text/plain": [
       "dense retrieval:   0%|          | 0/1570 [00:00<?, ?query/s]"
      ]
     },
     "metadata": {},
     "output_type": "display_data"
    },
    {
     "data": {
      "application/vnd.jupyter.widget-view+json": {
       "model_id": "f26a57f07b0b4401b306ceaf0a8e6642",
       "version_major": 2,
       "version_minor": 0
      },
      "text/plain": [
       "dense retrieval:   0%|          | 0/1570 [00:00<?, ?query/s]"
      ]
     },
     "metadata": {},
     "output_type": "display_data"
    },
    {
     "name": "stdout",
     "output_type": "stream",
     "text": [
      "CQADupstackGamingRetrieval\n"
     ]
    },
    {
     "data": {
      "application/vnd.jupyter.widget-view+json": {
       "model_id": "e1aa81c661584857ab9ccd2bc0d1009e",
       "version_major": 2,
       "version_minor": 0
      },
      "text/plain": [
       "Loading embeddings from disk:   0%|          | 0/45301 [00:00<?, ?row/s]"
      ]
     },
     "metadata": {},
     "output_type": "display_data"
    },
    {
     "data": {
      "application/vnd.jupyter.widget-view+json": {
       "model_id": "8113cb75b0c745d7afa01d5cd5b35ef8",
       "version_major": 2,
       "version_minor": 0
      },
      "text/plain": [
       "Loading embeddings from disk:   0%|          | 0/1595 [00:00<?, ?row/s]"
      ]
     },
     "metadata": {},
     "output_type": "display_data"
    },
    {
     "data": {
      "application/vnd.jupyter.widget-view+json": {
       "model_id": "8a0edb8c46e544b48e6ed7640d055804",
       "version_major": 2,
       "version_minor": 0
      },
      "text/plain": [
       "dense retrieval:   0%|          | 0/1595 [00:00<?, ?query/s]"
      ]
     },
     "metadata": {},
     "output_type": "display_data"
    },
    {
     "data": {
      "application/vnd.jupyter.widget-view+json": {
       "model_id": "48eab3e064164fc0beba1f5f5b99e1b4",
       "version_major": 2,
       "version_minor": 0
      },
      "text/plain": [
       "dense retrieval:   0%|          | 0/1595 [00:00<?, ?query/s]"
      ]
     },
     "metadata": {},
     "output_type": "display_data"
    },
    {
     "data": {
      "application/vnd.jupyter.widget-view+json": {
       "model_id": "6c331ba9083d47cea4d3fdc2c9c60580",
       "version_major": 2,
       "version_minor": 0
      },
      "text/plain": [
       "dense retrieval:   0%|          | 0/1595 [00:00<?, ?query/s]"
      ]
     },
     "metadata": {},
     "output_type": "display_data"
    },
    {
     "name": "stdout",
     "output_type": "stream",
     "text": [
      "CQADupstackGisRetrieval\n"
     ]
    },
    {
     "data": {
      "application/vnd.jupyter.widget-view+json": {
       "model_id": "39aa8efd5a654170964e52df31e031de",
       "version_major": 2,
       "version_minor": 0
      },
      "text/plain": [
       "Loading embeddings from disk:   0%|          | 0/37637 [00:00<?, ?row/s]"
      ]
     },
     "metadata": {},
     "output_type": "display_data"
    },
    {
     "data": {
      "application/vnd.jupyter.widget-view+json": {
       "model_id": "7ec28b7d82d441ddb905f136157bdd39",
       "version_major": 2,
       "version_minor": 0
      },
      "text/plain": [
       "Loading embeddings from disk:   0%|          | 0/885 [00:00<?, ?row/s]"
      ]
     },
     "metadata": {},
     "output_type": "display_data"
    },
    {
     "data": {
      "application/vnd.jupyter.widget-view+json": {
       "model_id": "2f417d3554c441da826854e283940574",
       "version_major": 2,
       "version_minor": 0
      },
      "text/plain": [
       "dense retrieval:   0%|          | 0/885 [00:00<?, ?query/s]"
      ]
     },
     "metadata": {},
     "output_type": "display_data"
    },
    {
     "data": {
      "application/vnd.jupyter.widget-view+json": {
       "model_id": "3739d27cbbe84d0881f3a45bfbb89e63",
       "version_major": 2,
       "version_minor": 0
      },
      "text/plain": [
       "dense retrieval:   0%|          | 0/885 [00:00<?, ?query/s]"
      ]
     },
     "metadata": {},
     "output_type": "display_data"
    },
    {
     "data": {
      "application/vnd.jupyter.widget-view+json": {
       "model_id": "b6be1f90b41449b782593174d34f4b4e",
       "version_major": 2,
       "version_minor": 0
      },
      "text/plain": [
       "dense retrieval:   0%|          | 0/885 [00:00<?, ?query/s]"
      ]
     },
     "metadata": {},
     "output_type": "display_data"
    },
    {
     "name": "stdout",
     "output_type": "stream",
     "text": [
      "CQADupstackMathematicaRetrieval\n"
     ]
    },
    {
     "data": {
      "application/vnd.jupyter.widget-view+json": {
       "model_id": "426fb4c5e8f144489266a5b70612a871",
       "version_major": 2,
       "version_minor": 0
      },
      "text/plain": [
       "Loading embeddings from disk:   0%|          | 0/16705 [00:00<?, ?row/s]"
      ]
     },
     "metadata": {},
     "output_type": "display_data"
    },
    {
     "data": {
      "application/vnd.jupyter.widget-view+json": {
       "model_id": "df564341e73641dcbce5bfb0521f91f6",
       "version_major": 2,
       "version_minor": 0
      },
      "text/plain": [
       "Loading embeddings from disk:   0%|          | 0/804 [00:00<?, ?row/s]"
      ]
     },
     "metadata": {},
     "output_type": "display_data"
    },
    {
     "data": {
      "application/vnd.jupyter.widget-view+json": {
       "model_id": "bd1bda9486204b9eb17d16530adfbdff",
       "version_major": 2,
       "version_minor": 0
      },
      "text/plain": [
       "dense retrieval:   0%|          | 0/804 [00:00<?, ?query/s]"
      ]
     },
     "metadata": {},
     "output_type": "display_data"
    },
    {
     "data": {
      "application/vnd.jupyter.widget-view+json": {
       "model_id": "fc1994fa53934f2b938c099413378d26",
       "version_major": 2,
       "version_minor": 0
      },
      "text/plain": [
       "dense retrieval:   0%|          | 0/804 [00:00<?, ?query/s]"
      ]
     },
     "metadata": {},
     "output_type": "display_data"
    },
    {
     "data": {
      "application/vnd.jupyter.widget-view+json": {
       "model_id": "989b5eea6abd4351ba3cdbca00cc0f6f",
       "version_major": 2,
       "version_minor": 0
      },
      "text/plain": [
       "dense retrieval:   0%|          | 0/804 [00:00<?, ?query/s]"
      ]
     },
     "metadata": {},
     "output_type": "display_data"
    },
    {
     "name": "stdout",
     "output_type": "stream",
     "text": [
      "CQADupstackPhysicsRetrieval\n"
     ]
    },
    {
     "data": {
      "application/vnd.jupyter.widget-view+json": {
       "model_id": "04a73fbd9236469e8c1fcf31894273f7",
       "version_major": 2,
       "version_minor": 0
      },
      "text/plain": [
       "Loading embeddings from disk:   0%|          | 0/38316 [00:00<?, ?row/s]"
      ]
     },
     "metadata": {},
     "output_type": "display_data"
    },
    {
     "data": {
      "application/vnd.jupyter.widget-view+json": {
       "model_id": "41af9c4e93704ea587091a82d48ab75d",
       "version_major": 2,
       "version_minor": 0
      },
      "text/plain": [
       "Loading embeddings from disk:   0%|          | 0/1039 [00:00<?, ?row/s]"
      ]
     },
     "metadata": {},
     "output_type": "display_data"
    },
    {
     "data": {
      "application/vnd.jupyter.widget-view+json": {
       "model_id": "acff10ad9e6b4e7a80f8a65c991a97b3",
       "version_major": 2,
       "version_minor": 0
      },
      "text/plain": [
       "dense retrieval:   0%|          | 0/1039 [00:00<?, ?query/s]"
      ]
     },
     "metadata": {},
     "output_type": "display_data"
    },
    {
     "data": {
      "application/vnd.jupyter.widget-view+json": {
       "model_id": "e6b2e1c239d341709707aaabb91a1c11",
       "version_major": 2,
       "version_minor": 0
      },
      "text/plain": [
       "dense retrieval:   0%|          | 0/1039 [00:00<?, ?query/s]"
      ]
     },
     "metadata": {},
     "output_type": "display_data"
    },
    {
     "data": {
      "application/vnd.jupyter.widget-view+json": {
       "model_id": "d2e85a5a38594d9c912e04dea40f5270",
       "version_major": 2,
       "version_minor": 0
      },
      "text/plain": [
       "dense retrieval:   0%|          | 0/1039 [00:00<?, ?query/s]"
      ]
     },
     "metadata": {},
     "output_type": "display_data"
    },
    {
     "name": "stdout",
     "output_type": "stream",
     "text": [
      "CQADupstackProgrammersRetrieval\n"
     ]
    },
    {
     "data": {
      "application/vnd.jupyter.widget-view+json": {
       "model_id": "95355825790a4cc2aa841ee2c856eb5b",
       "version_major": 2,
       "version_minor": 0
      },
      "text/plain": [
       "Loading embeddings from disk:   0%|          | 0/32176 [00:00<?, ?row/s]"
      ]
     },
     "metadata": {},
     "output_type": "display_data"
    },
    {
     "data": {
      "application/vnd.jupyter.widget-view+json": {
       "model_id": "7c3fca429d2b4e1f9b9fca8a03b9d4a3",
       "version_major": 2,
       "version_minor": 0
      },
      "text/plain": [
       "Loading embeddings from disk:   0%|          | 0/876 [00:00<?, ?row/s]"
      ]
     },
     "metadata": {},
     "output_type": "display_data"
    },
    {
     "data": {
      "application/vnd.jupyter.widget-view+json": {
       "model_id": "a48cad6fc9584af49a3a55cd6b48207a",
       "version_major": 2,
       "version_minor": 0
      },
      "text/plain": [
       "dense retrieval:   0%|          | 0/876 [00:00<?, ?query/s]"
      ]
     },
     "metadata": {},
     "output_type": "display_data"
    },
    {
     "data": {
      "application/vnd.jupyter.widget-view+json": {
       "model_id": "ff86fa0d28a84349a43444d15b5e6963",
       "version_major": 2,
       "version_minor": 0
      },
      "text/plain": [
       "dense retrieval:   0%|          | 0/876 [00:00<?, ?query/s]"
      ]
     },
     "metadata": {},
     "output_type": "display_data"
    },
    {
     "data": {
      "application/vnd.jupyter.widget-view+json": {
       "model_id": "971b78e14dc64266896e3a17e7ea94f9",
       "version_major": 2,
       "version_minor": 0
      },
      "text/plain": [
       "dense retrieval:   0%|          | 0/876 [00:00<?, ?query/s]"
      ]
     },
     "metadata": {},
     "output_type": "display_data"
    },
    {
     "name": "stdout",
     "output_type": "stream",
     "text": [
      "CQADupstackStatsRetrieval\n"
     ]
    },
    {
     "data": {
      "application/vnd.jupyter.widget-view+json": {
       "model_id": "dd8c76477fb24e48a058262defb50e57",
       "version_major": 2,
       "version_minor": 0
      },
      "text/plain": [
       "Loading embeddings from disk:   0%|          | 0/42269 [00:00<?, ?row/s]"
      ]
     },
     "metadata": {},
     "output_type": "display_data"
    },
    {
     "data": {
      "application/vnd.jupyter.widget-view+json": {
       "model_id": "667332f227344132ac8f6a692eee9440",
       "version_major": 2,
       "version_minor": 0
      },
      "text/plain": [
       "Loading embeddings from disk:   0%|          | 0/652 [00:00<?, ?row/s]"
      ]
     },
     "metadata": {},
     "output_type": "display_data"
    },
    {
     "data": {
      "application/vnd.jupyter.widget-view+json": {
       "model_id": "d568dccb69da4f00922387e796f0abeb",
       "version_major": 2,
       "version_minor": 0
      },
      "text/plain": [
       "dense retrieval:   0%|          | 0/652 [00:00<?, ?query/s]"
      ]
     },
     "metadata": {},
     "output_type": "display_data"
    },
    {
     "data": {
      "application/vnd.jupyter.widget-view+json": {
       "model_id": "8f754b32c16e41b1baf54c881b488f3e",
       "version_major": 2,
       "version_minor": 0
      },
      "text/plain": [
       "dense retrieval:   0%|          | 0/652 [00:00<?, ?query/s]"
      ]
     },
     "metadata": {},
     "output_type": "display_data"
    },
    {
     "data": {
      "application/vnd.jupyter.widget-view+json": {
       "model_id": "24e3c6c9d85e49368fe8e2c79a878215",
       "version_major": 2,
       "version_minor": 0
      },
      "text/plain": [
       "dense retrieval:   0%|          | 0/652 [00:00<?, ?query/s]"
      ]
     },
     "metadata": {},
     "output_type": "display_data"
    },
    {
     "name": "stdout",
     "output_type": "stream",
     "text": [
      "CQADupstackTexRetrieval\n"
     ]
    },
    {
     "data": {
      "application/vnd.jupyter.widget-view+json": {
       "model_id": "196417a85bbe4cfca4c0ecc4be2973cf",
       "version_major": 2,
       "version_minor": 0
      },
      "text/plain": [
       "Loading embeddings from disk:   0%|          | 0/68184 [00:00<?, ?row/s]"
      ]
     },
     "metadata": {},
     "output_type": "display_data"
    },
    {
     "data": {
      "application/vnd.jupyter.widget-view+json": {
       "model_id": "15755f07ae064826ba7247727d8cc723",
       "version_major": 2,
       "version_minor": 0
      },
      "text/plain": [
       "Loading embeddings from disk:   0%|          | 0/2906 [00:00<?, ?row/s]"
      ]
     },
     "metadata": {},
     "output_type": "display_data"
    },
    {
     "data": {
      "application/vnd.jupyter.widget-view+json": {
       "model_id": "93d6332011634064ad6be497a1a80bd9",
       "version_major": 2,
       "version_minor": 0
      },
      "text/plain": [
       "dense retrieval:   0%|          | 0/2906 [00:00<?, ?query/s]"
      ]
     },
     "metadata": {},
     "output_type": "display_data"
    },
    {
     "data": {
      "application/vnd.jupyter.widget-view+json": {
       "model_id": "018c981b078c46059b9518e40a899f3d",
       "version_major": 2,
       "version_minor": 0
      },
      "text/plain": [
       "dense retrieval:   0%|          | 0/2906 [00:00<?, ?query/s]"
      ]
     },
     "metadata": {},
     "output_type": "display_data"
    },
    {
     "data": {
      "application/vnd.jupyter.widget-view+json": {
       "model_id": "8af4f2129d7d407095da6f81af7547da",
       "version_major": 2,
       "version_minor": 0
      },
      "text/plain": [
       "dense retrieval:   0%|          | 0/2906 [00:00<?, ?query/s]"
      ]
     },
     "metadata": {},
     "output_type": "display_data"
    },
    {
     "name": "stdout",
     "output_type": "stream",
     "text": [
      "CQADupstackUnixRetrieval\n"
     ]
    },
    {
     "data": {
      "application/vnd.jupyter.widget-view+json": {
       "model_id": "f7e840a7b1f1402abf093e6108a5135c",
       "version_major": 2,
       "version_minor": 0
      },
      "text/plain": [
       "Loading embeddings from disk:   0%|          | 0/47382 [00:00<?, ?row/s]"
      ]
     },
     "metadata": {},
     "output_type": "display_data"
    },
    {
     "data": {
      "application/vnd.jupyter.widget-view+json": {
       "model_id": "5bce241eb8b84f11bbd40854f4060233",
       "version_major": 2,
       "version_minor": 0
      },
      "text/plain": [
       "Loading embeddings from disk:   0%|          | 0/1072 [00:00<?, ?row/s]"
      ]
     },
     "metadata": {},
     "output_type": "display_data"
    },
    {
     "data": {
      "application/vnd.jupyter.widget-view+json": {
       "model_id": "675fe9ce774444d8a97f5196dc0329a2",
       "version_major": 2,
       "version_minor": 0
      },
      "text/plain": [
       "dense retrieval:   0%|          | 0/1072 [00:00<?, ?query/s]"
      ]
     },
     "metadata": {},
     "output_type": "display_data"
    },
    {
     "data": {
      "application/vnd.jupyter.widget-view+json": {
       "model_id": "70e29deac9124375b875ba38ee15f463",
       "version_major": 2,
       "version_minor": 0
      },
      "text/plain": [
       "dense retrieval:   0%|          | 0/1072 [00:00<?, ?query/s]"
      ]
     },
     "metadata": {},
     "output_type": "display_data"
    },
    {
     "data": {
      "application/vnd.jupyter.widget-view+json": {
       "model_id": "7233d848b4914ee49cde3b1b5c6be7c8",
       "version_major": 2,
       "version_minor": 0
      },
      "text/plain": [
       "dense retrieval:   0%|          | 0/1072 [00:00<?, ?query/s]"
      ]
     },
     "metadata": {},
     "output_type": "display_data"
    },
    {
     "name": "stdout",
     "output_type": "stream",
     "text": [
      "CQADupstackWebmastersRetrieval\n"
     ]
    },
    {
     "data": {
      "application/vnd.jupyter.widget-view+json": {
       "model_id": "a1b950d021884b2f80d7678ea93cb3c4",
       "version_major": 2,
       "version_minor": 0
      },
      "text/plain": [
       "Loading embeddings from disk:   0%|          | 0/17405 [00:00<?, ?row/s]"
      ]
     },
     "metadata": {},
     "output_type": "display_data"
    },
    {
     "data": {
      "application/vnd.jupyter.widget-view+json": {
       "model_id": "c1f99c60779540ffaa4d45de923942d3",
       "version_major": 2,
       "version_minor": 0
      },
      "text/plain": [
       "Loading embeddings from disk:   0%|          | 0/506 [00:00<?, ?row/s]"
      ]
     },
     "metadata": {},
     "output_type": "display_data"
    },
    {
     "data": {
      "application/vnd.jupyter.widget-view+json": {
       "model_id": "b51d1b6d58794032ba5db541808ac6cf",
       "version_major": 2,
       "version_minor": 0
      },
      "text/plain": [
       "dense retrieval:   0%|          | 0/506 [00:00<?, ?query/s]"
      ]
     },
     "metadata": {},
     "output_type": "display_data"
    },
    {
     "data": {
      "application/vnd.jupyter.widget-view+json": {
       "model_id": "4451dd5e2c3f4c6dbb41e83aa8f839a9",
       "version_major": 2,
       "version_minor": 0
      },
      "text/plain": [
       "dense retrieval:   0%|          | 0/506 [00:00<?, ?query/s]"
      ]
     },
     "metadata": {},
     "output_type": "display_data"
    },
    {
     "data": {
      "application/vnd.jupyter.widget-view+json": {
       "model_id": "d6af9d9443a1422bb81924e4c8fee982",
       "version_major": 2,
       "version_minor": 0
      },
      "text/plain": [
       "dense retrieval:   0%|          | 0/506 [00:00<?, ?query/s]"
      ]
     },
     "metadata": {},
     "output_type": "display_data"
    },
    {
     "name": "stdout",
     "output_type": "stream",
     "text": [
      "CQADupstackWordpressRetrieval\n"
     ]
    },
    {
     "data": {
      "application/vnd.jupyter.widget-view+json": {
       "model_id": "c873fbd48c2c4a0b8a46305067b1da06",
       "version_major": 2,
       "version_minor": 0
      },
      "text/plain": [
       "Loading embeddings from disk:   0%|          | 0/48605 [00:00<?, ?row/s]"
      ]
     },
     "metadata": {},
     "output_type": "display_data"
    },
    {
     "data": {
      "application/vnd.jupyter.widget-view+json": {
       "model_id": "1cba23bfc32e4a77bb20a617e984b5b8",
       "version_major": 2,
       "version_minor": 0
      },
      "text/plain": [
       "Loading embeddings from disk:   0%|          | 0/541 [00:00<?, ?row/s]"
      ]
     },
     "metadata": {},
     "output_type": "display_data"
    },
    {
     "data": {
      "application/vnd.jupyter.widget-view+json": {
       "model_id": "00bc6aede2c84d219efe3b8046b9be5b",
       "version_major": 2,
       "version_minor": 0
      },
      "text/plain": [
       "dense retrieval:   0%|          | 0/541 [00:00<?, ?query/s]"
      ]
     },
     "metadata": {},
     "output_type": "display_data"
    },
    {
     "data": {
      "application/vnd.jupyter.widget-view+json": {
       "model_id": "c77f9c20755447cbb753f0f47a34a5fc",
       "version_major": 2,
       "version_minor": 0
      },
      "text/plain": [
       "dense retrieval:   0%|          | 0/541 [00:00<?, ?query/s]"
      ]
     },
     "metadata": {},
     "output_type": "display_data"
    },
    {
     "data": {
      "application/vnd.jupyter.widget-view+json": {
       "model_id": "09542e8329064ac498db3c556b43c883",
       "version_major": 2,
       "version_minor": 0
      },
      "text/plain": [
       "dense retrieval:   0%|          | 0/541 [00:00<?, ?query/s]"
      ]
     },
     "metadata": {},
     "output_type": "display_data"
    },
    {
     "name": "stdout",
     "output_type": "stream",
     "text": [
      "ClimateFEVER\n"
     ]
    },
    {
     "data": {
      "application/vnd.jupyter.widget-view+json": {
       "model_id": "03e9936ba1f346699b226cebec836da5",
       "version_major": 2,
       "version_minor": 0
      },
      "text/plain": [
       "Loading embeddings from disk:   0%|          | 0/5416593 [00:00<?, ?row/s]"
      ]
     },
     "metadata": {},
     "output_type": "display_data"
    },
    {
     "data": {
      "application/vnd.jupyter.widget-view+json": {
       "model_id": "bf923e436e1941f3913dcfc5a36b3c59",
       "version_major": 2,
       "version_minor": 0
      },
      "text/plain": [
       "Loading embeddings from disk:   0%|          | 0/1535 [00:00<?, ?row/s]"
      ]
     },
     "metadata": {},
     "output_type": "display_data"
    },
    {
     "data": {
      "application/vnd.jupyter.widget-view+json": {
       "model_id": "d31bcaa84d634f9f84db458cf6a8817d",
       "version_major": 2,
       "version_minor": 0
      },
      "text/plain": [
       "dense retrieval:   0%|          | 0/1535 [00:00<?, ?query/s]"
      ]
     },
     "metadata": {},
     "output_type": "display_data"
    },
    {
     "data": {
      "application/vnd.jupyter.widget-view+json": {
       "model_id": "419bb581a0404a708ff7e6ed4030702e",
       "version_major": 2,
       "version_minor": 0
      },
      "text/plain": [
       "dense retrieval:   0%|          | 0/1535 [00:00<?, ?query/s]"
      ]
     },
     "metadata": {},
     "output_type": "display_data"
    },
    {
     "data": {
      "application/vnd.jupyter.widget-view+json": {
       "model_id": "f3082ae60d2d4df78a5363ec23ba3d77",
       "version_major": 2,
       "version_minor": 0
      },
      "text/plain": [
       "dense retrieval:   0%|          | 0/1535 [00:00<?, ?query/s]"
      ]
     },
     "metadata": {},
     "output_type": "display_data"
    },
    {
     "name": "stdout",
     "output_type": "stream",
     "text": [
      "DBPedia\n"
     ]
    },
    {
     "data": {
      "application/vnd.jupyter.widget-view+json": {
       "model_id": "0f366846877844fd91d1d3398cdeea8c",
       "version_major": 2,
       "version_minor": 0
      },
      "text/plain": [
       "Loading embeddings from disk:   0%|          | 0/4635922 [00:00<?, ?row/s]"
      ]
     },
     "metadata": {},
     "output_type": "display_data"
    },
    {
     "data": {
      "application/vnd.jupyter.widget-view+json": {
       "model_id": "905c8992fc24487286f388be9071348f",
       "version_major": 2,
       "version_minor": 0
      },
      "text/plain": [
       "Loading embeddings from disk:   0%|          | 0/400 [00:00<?, ?row/s]"
      ]
     },
     "metadata": {},
     "output_type": "display_data"
    },
    {
     "data": {
      "application/vnd.jupyter.widget-view+json": {
       "model_id": "f9f5fc4e958949ac89db015d0428a7b7",
       "version_major": 2,
       "version_minor": 0
      },
      "text/plain": [
       "dense retrieval:   0%|          | 0/400 [00:00<?, ?query/s]"
      ]
     },
     "metadata": {},
     "output_type": "display_data"
    },
    {
     "data": {
      "application/vnd.jupyter.widget-view+json": {
       "model_id": "ae377c6adc29400a8ec500ca0a9edfac",
       "version_major": 2,
       "version_minor": 0
      },
      "text/plain": [
       "dense retrieval:   0%|          | 0/400 [00:00<?, ?query/s]"
      ]
     },
     "metadata": {},
     "output_type": "display_data"
    },
    {
     "data": {
      "application/vnd.jupyter.widget-view+json": {
       "model_id": "c560903c9a83431fa4607c32754a022a",
       "version_major": 2,
       "version_minor": 0
      },
      "text/plain": [
       "dense retrieval:   0%|          | 0/400 [00:00<?, ?query/s]"
      ]
     },
     "metadata": {},
     "output_type": "display_data"
    },
    {
     "name": "stdout",
     "output_type": "stream",
     "text": [
      "FEVER\n"
     ]
    },
    {
     "data": {
      "application/vnd.jupyter.widget-view+json": {
       "model_id": "b12c5574a7c944379532a6976c3f075e",
       "version_major": 2,
       "version_minor": 0
      },
      "text/plain": [
       "Loading embeddings from disk:   0%|          | 0/5416568 [00:00<?, ?row/s]"
      ]
     },
     "metadata": {},
     "output_type": "display_data"
    },
    {
     "data": {
      "application/vnd.jupyter.widget-view+json": {
       "model_id": "622a44e73d9441a6a8b90d70423edd3a",
       "version_major": 2,
       "version_minor": 0
      },
      "text/plain": [
       "Loading embeddings from disk:   0%|          | 0/6666 [00:00<?, ?row/s]"
      ]
     },
     "metadata": {},
     "output_type": "display_data"
    },
    {
     "data": {
      "application/vnd.jupyter.widget-view+json": {
       "model_id": "e54334719b554218be4df44ab5b887ca",
       "version_major": 2,
       "version_minor": 0
      },
      "text/plain": [
       "dense retrieval:   0%|          | 0/6666 [00:00<?, ?query/s]"
      ]
     },
     "metadata": {},
     "output_type": "display_data"
    },
    {
     "data": {
      "application/vnd.jupyter.widget-view+json": {
       "model_id": "0b67614d573341be8628959e31352380",
       "version_major": 2,
       "version_minor": 0
      },
      "text/plain": [
       "dense retrieval:   0%|          | 0/6666 [00:00<?, ?query/s]"
      ]
     },
     "metadata": {},
     "output_type": "display_data"
    },
    {
     "data": {
      "application/vnd.jupyter.widget-view+json": {
       "model_id": "c3b99bceafbf4b7383fae39aeb71f921",
       "version_major": 2,
       "version_minor": 0
      },
      "text/plain": [
       "dense retrieval:   0%|          | 0/6666 [00:00<?, ?query/s]"
      ]
     },
     "metadata": {},
     "output_type": "display_data"
    },
    {
     "name": "stdout",
     "output_type": "stream",
     "text": [
      "FiQA2018\n"
     ]
    },
    {
     "data": {
      "application/vnd.jupyter.widget-view+json": {
       "model_id": "43bc3bd9ae02471689515290671327cf",
       "version_major": 2,
       "version_minor": 0
      },
      "text/plain": [
       "Loading embeddings from disk:   0%|          | 0/57638 [00:00<?, ?row/s]"
      ]
     },
     "metadata": {},
     "output_type": "display_data"
    },
    {
     "data": {
      "application/vnd.jupyter.widget-view+json": {
       "model_id": "f84e4962597f4fda95fe086617a22f52",
       "version_major": 2,
       "version_minor": 0
      },
      "text/plain": [
       "Loading embeddings from disk:   0%|          | 0/648 [00:00<?, ?row/s]"
      ]
     },
     "metadata": {},
     "output_type": "display_data"
    },
    {
     "data": {
      "application/vnd.jupyter.widget-view+json": {
       "model_id": "cd7b45793bd64b2f9e7ea376fd544f28",
       "version_major": 2,
       "version_minor": 0
      },
      "text/plain": [
       "dense retrieval:   0%|          | 0/648 [00:00<?, ?query/s]"
      ]
     },
     "metadata": {},
     "output_type": "display_data"
    },
    {
     "data": {
      "application/vnd.jupyter.widget-view+json": {
       "model_id": "75d2cc2f5f9a4272b81adf137fe57a06",
       "version_major": 2,
       "version_minor": 0
      },
      "text/plain": [
       "dense retrieval:   0%|          | 0/648 [00:00<?, ?query/s]"
      ]
     },
     "metadata": {},
     "output_type": "display_data"
    },
    {
     "data": {
      "application/vnd.jupyter.widget-view+json": {
       "model_id": "7beed69eec214c00a1f267ba3816cc7c",
       "version_major": 2,
       "version_minor": 0
      },
      "text/plain": [
       "dense retrieval:   0%|          | 0/648 [00:00<?, ?query/s]"
      ]
     },
     "metadata": {},
     "output_type": "display_data"
    },
    {
     "name": "stdout",
     "output_type": "stream",
     "text": [
      "HotpotQA\n"
     ]
    },
    {
     "data": {
      "application/vnd.jupyter.widget-view+json": {
       "model_id": "acfd838a5f874ea9a967124ae15c6fc1",
       "version_major": 2,
       "version_minor": 0
      },
      "text/plain": [
       "Loading embeddings from disk:   0%|          | 0/5233329 [00:00<?, ?row/s]"
      ]
     },
     "metadata": {},
     "output_type": "display_data"
    },
    {
     "data": {
      "application/vnd.jupyter.widget-view+json": {
       "model_id": "174802afb83b46d1af046690a598611e",
       "version_major": 2,
       "version_minor": 0
      },
      "text/plain": [
       "Loading embeddings from disk:   0%|          | 0/7405 [00:00<?, ?row/s]"
      ]
     },
     "metadata": {},
     "output_type": "display_data"
    },
    {
     "data": {
      "application/vnd.jupyter.widget-view+json": {
       "model_id": "d3a20314bbf84c32b7f2d00e765d0ccf",
       "version_major": 2,
       "version_minor": 0
      },
      "text/plain": [
       "dense retrieval:   0%|          | 0/7405 [00:00<?, ?query/s]"
      ]
     },
     "metadata": {},
     "output_type": "display_data"
    },
    {
     "data": {
      "application/vnd.jupyter.widget-view+json": {
       "model_id": "ba808e25b00d4ec4abb96f1bd8869e59",
       "version_major": 2,
       "version_minor": 0
      },
      "text/plain": [
       "dense retrieval:   0%|          | 0/7405 [00:00<?, ?query/s]"
      ]
     },
     "metadata": {},
     "output_type": "display_data"
    },
    {
     "data": {
      "application/vnd.jupyter.widget-view+json": {
       "model_id": "f30cc44a3bfe42618d04df10f37a18e3",
       "version_major": 2,
       "version_minor": 0
      },
      "text/plain": [
       "dense retrieval:   0%|          | 0/7405 [00:00<?, ?query/s]"
      ]
     },
     "metadata": {},
     "output_type": "display_data"
    },
    {
     "name": "stdout",
     "output_type": "stream",
     "text": [
      "MSMARCO\n"
     ]
    },
    {
     "data": {
      "application/vnd.jupyter.widget-view+json": {
       "model_id": "bd624c4de93c4ffda9653410e5bb379f",
       "version_major": 2,
       "version_minor": 0
      },
      "text/plain": [
       "Loading embeddings from disk:   0%|          | 0/8841823 [00:00<?, ?row/s]"
      ]
     },
     "metadata": {},
     "output_type": "display_data"
    },
    {
     "data": {
      "application/vnd.jupyter.widget-view+json": {
       "model_id": "87763978123e4621ac50a962fc9e39c1",
       "version_major": 2,
       "version_minor": 0
      },
      "text/plain": [
       "Loading embeddings from disk:   0%|          | 0/6980 [00:00<?, ?row/s]"
      ]
     },
     "metadata": {},
     "output_type": "display_data"
    },
    {
     "data": {
      "application/vnd.jupyter.widget-view+json": {
       "model_id": "2fe375d0ea464d6dadd1107bd9ed6725",
       "version_major": 2,
       "version_minor": 0
      },
      "text/plain": [
       "dense retrieval:   0%|          | 0/6980 [00:00<?, ?query/s]"
      ]
     },
     "metadata": {},
     "output_type": "display_data"
    },
    {
     "data": {
      "application/vnd.jupyter.widget-view+json": {
       "model_id": "74dc9ce929d841a4a2da44d4325a0ffa",
       "version_major": 2,
       "version_minor": 0
      },
      "text/plain": [
       "dense retrieval:   0%|          | 0/6980 [00:00<?, ?query/s]"
      ]
     },
     "metadata": {},
     "output_type": "display_data"
    },
    {
     "data": {
      "application/vnd.jupyter.widget-view+json": {
       "model_id": "2d6570dfc5e94563a96f794978cbf349",
       "version_major": 2,
       "version_minor": 0
      },
      "text/plain": [
       "dense retrieval:   0%|          | 0/6980 [00:00<?, ?query/s]"
      ]
     },
     "metadata": {},
     "output_type": "display_data"
    },
    {
     "name": "stdout",
     "output_type": "stream",
     "text": [
      "NFCorpus\n"
     ]
    },
    {
     "data": {
      "application/vnd.jupyter.widget-view+json": {
       "model_id": "bf9c17626af44cd19ac7ebc18b0a5b79",
       "version_major": 2,
       "version_minor": 0
      },
      "text/plain": [
       "Loading embeddings from disk:   0%|          | 0/3633 [00:00<?, ?row/s]"
      ]
     },
     "metadata": {},
     "output_type": "display_data"
    },
    {
     "data": {
      "application/vnd.jupyter.widget-view+json": {
       "model_id": "7dea198b2ce14449b05d626e985d1593",
       "version_major": 2,
       "version_minor": 0
      },
      "text/plain": [
       "Loading embeddings from disk:   0%|          | 0/323 [00:00<?, ?row/s]"
      ]
     },
     "metadata": {},
     "output_type": "display_data"
    },
    {
     "data": {
      "application/vnd.jupyter.widget-view+json": {
       "model_id": "e08c9be8302b45bb886626ee4ee7f4ae",
       "version_major": 2,
       "version_minor": 0
      },
      "text/plain": [
       "dense retrieval:   0%|          | 0/323 [00:00<?, ?query/s]"
      ]
     },
     "metadata": {},
     "output_type": "display_data"
    },
    {
     "data": {
      "application/vnd.jupyter.widget-view+json": {
       "model_id": "bff282cd545a44faa54a16db80a7e777",
       "version_major": 2,
       "version_minor": 0
      },
      "text/plain": [
       "dense retrieval:   0%|          | 0/323 [00:00<?, ?query/s]"
      ]
     },
     "metadata": {},
     "output_type": "display_data"
    },
    {
     "data": {
      "application/vnd.jupyter.widget-view+json": {
       "model_id": "511164fcdcce4d5aa2b9b07f74cff714",
       "version_major": 2,
       "version_minor": 0
      },
      "text/plain": [
       "dense retrieval:   0%|          | 0/323 [00:00<?, ?query/s]"
      ]
     },
     "metadata": {},
     "output_type": "display_data"
    },
    {
     "name": "stdout",
     "output_type": "stream",
     "text": [
      "NQ\n"
     ]
    },
    {
     "data": {
      "application/vnd.jupyter.widget-view+json": {
       "model_id": "1dac5a2a1c4c4e7cb2236405d369dcd5",
       "version_major": 2,
       "version_minor": 0
      },
      "text/plain": [
       "Loading embeddings from disk:   0%|          | 0/2681468 [00:00<?, ?row/s]"
      ]
     },
     "metadata": {},
     "output_type": "display_data"
    },
    {
     "data": {
      "application/vnd.jupyter.widget-view+json": {
       "model_id": "803ad5f8fbf44a17adc223ffb115be6e",
       "version_major": 2,
       "version_minor": 0
      },
      "text/plain": [
       "Loading embeddings from disk:   0%|          | 0/3452 [00:00<?, ?row/s]"
      ]
     },
     "metadata": {},
     "output_type": "display_data"
    },
    {
     "data": {
      "application/vnd.jupyter.widget-view+json": {
       "model_id": "e568595ff4bd438ba2f428a35c93e621",
       "version_major": 2,
       "version_minor": 0
      },
      "text/plain": [
       "dense retrieval:   0%|          | 0/3452 [00:00<?, ?query/s]"
      ]
     },
     "metadata": {},
     "output_type": "display_data"
    },
    {
     "data": {
      "application/vnd.jupyter.widget-view+json": {
       "model_id": "f819281939ed48058709b7c8c456d76b",
       "version_major": 2,
       "version_minor": 0
      },
      "text/plain": [
       "dense retrieval:   0%|          | 0/3452 [00:00<?, ?query/s]"
      ]
     },
     "metadata": {},
     "output_type": "display_data"
    },
    {
     "data": {
      "application/vnd.jupyter.widget-view+json": {
       "model_id": "e63e09ea857d4a3d8792f727681ae9f7",
       "version_major": 2,
       "version_minor": 0
      },
      "text/plain": [
       "dense retrieval:   0%|          | 0/3452 [00:00<?, ?query/s]"
      ]
     },
     "metadata": {},
     "output_type": "display_data"
    },
    {
     "name": "stdout",
     "output_type": "stream",
     "text": [
      "QuoraRetrieval\n"
     ]
    },
    {
     "data": {
      "application/vnd.jupyter.widget-view+json": {
       "model_id": "3309582e605d4d609301261305de3d55",
       "version_major": 2,
       "version_minor": 0
      },
      "text/plain": [
       "Loading embeddings from disk:   0%|          | 0/522931 [00:00<?, ?row/s]"
      ]
     },
     "metadata": {},
     "output_type": "display_data"
    },
    {
     "data": {
      "application/vnd.jupyter.widget-view+json": {
       "model_id": "8beee29cd96643a1a7a9402184b64d41",
       "version_major": 2,
       "version_minor": 0
      },
      "text/plain": [
       "Loading embeddings from disk:   0%|          | 0/10000 [00:00<?, ?row/s]"
      ]
     },
     "metadata": {},
     "output_type": "display_data"
    },
    {
     "data": {
      "application/vnd.jupyter.widget-view+json": {
       "model_id": "e4ed60b8e0584f4eab079bf411308065",
       "version_major": 2,
       "version_minor": 0
      },
      "text/plain": [
       "dense retrieval:   0%|          | 0/10000 [00:00<?, ?query/s]"
      ]
     },
     "metadata": {},
     "output_type": "display_data"
    },
    {
     "data": {
      "application/vnd.jupyter.widget-view+json": {
       "model_id": "799fea8c54494b99a3d80b584a5a6a33",
       "version_major": 2,
       "version_minor": 0
      },
      "text/plain": [
       "dense retrieval:   0%|          | 0/10000 [00:00<?, ?query/s]"
      ]
     },
     "metadata": {},
     "output_type": "display_data"
    },
    {
     "data": {
      "application/vnd.jupyter.widget-view+json": {
       "model_id": "756fafbdcdad4d1f9373421f0b4d2d87",
       "version_major": 2,
       "version_minor": 0
      },
      "text/plain": [
       "dense retrieval:   0%|          | 0/10000 [00:00<?, ?query/s]"
      ]
     },
     "metadata": {},
     "output_type": "display_data"
    },
    {
     "name": "stdout",
     "output_type": "stream",
     "text": [
      "SCIDOCS\n"
     ]
    },
    {
     "data": {
      "application/vnd.jupyter.widget-view+json": {
       "model_id": "fe60bba77fef46f5ad2d2b82d579ac30",
       "version_major": 2,
       "version_minor": 0
      },
      "text/plain": [
       "Loading embeddings from disk:   0%|          | 0/25657 [00:00<?, ?row/s]"
      ]
     },
     "metadata": {},
     "output_type": "display_data"
    },
    {
     "data": {
      "application/vnd.jupyter.widget-view+json": {
       "model_id": "3f3e9cef43e94cbe899aac2e70cc45d7",
       "version_major": 2,
       "version_minor": 0
      },
      "text/plain": [
       "Loading embeddings from disk:   0%|          | 0/1000 [00:00<?, ?row/s]"
      ]
     },
     "metadata": {},
     "output_type": "display_data"
    },
    {
     "data": {
      "application/vnd.jupyter.widget-view+json": {
       "model_id": "7e7fbac529e94eb0bcbd8ce2b86e9f71",
       "version_major": 2,
       "version_minor": 0
      },
      "text/plain": [
       "dense retrieval:   0%|          | 0/1000 [00:00<?, ?query/s]"
      ]
     },
     "metadata": {},
     "output_type": "display_data"
    },
    {
     "data": {
      "application/vnd.jupyter.widget-view+json": {
       "model_id": "e2a59e5113684fa2a3ddb0de0da21231",
       "version_major": 2,
       "version_minor": 0
      },
      "text/plain": [
       "dense retrieval:   0%|          | 0/1000 [00:00<?, ?query/s]"
      ]
     },
     "metadata": {},
     "output_type": "display_data"
    },
    {
     "data": {
      "application/vnd.jupyter.widget-view+json": {
       "model_id": "de594758959140158bd513e9e2341cdb",
       "version_major": 2,
       "version_minor": 0
      },
      "text/plain": [
       "dense retrieval:   0%|          | 0/1000 [00:00<?, ?query/s]"
      ]
     },
     "metadata": {},
     "output_type": "display_data"
    },
    {
     "name": "stdout",
     "output_type": "stream",
     "text": [
      "SciFact\n"
     ]
    },
    {
     "data": {
      "application/vnd.jupyter.widget-view+json": {
       "model_id": "80907b3fbd4646b4ad4c3c036180352d",
       "version_major": 2,
       "version_minor": 0
      },
      "text/plain": [
       "Loading embeddings from disk:   0%|          | 0/5183 [00:00<?, ?row/s]"
      ]
     },
     "metadata": {},
     "output_type": "display_data"
    },
    {
     "data": {
      "application/vnd.jupyter.widget-view+json": {
       "model_id": "a5176ecadd61409eadd6da41455a05cf",
       "version_major": 2,
       "version_minor": 0
      },
      "text/plain": [
       "Loading embeddings from disk:   0%|          | 0/300 [00:00<?, ?row/s]"
      ]
     },
     "metadata": {},
     "output_type": "display_data"
    },
    {
     "data": {
      "application/vnd.jupyter.widget-view+json": {
       "model_id": "b7ca723cf959438db1dabbcf71522b5c",
       "version_major": 2,
       "version_minor": 0
      },
      "text/plain": [
       "dense retrieval:   0%|          | 0/300 [00:00<?, ?query/s]"
      ]
     },
     "metadata": {},
     "output_type": "display_data"
    },
    {
     "data": {
      "application/vnd.jupyter.widget-view+json": {
       "model_id": "c3450e6b3fb94ac7806e243bf7fcb83b",
       "version_major": 2,
       "version_minor": 0
      },
      "text/plain": [
       "dense retrieval:   0%|          | 0/300 [00:00<?, ?query/s]"
      ]
     },
     "metadata": {},
     "output_type": "display_data"
    },
    {
     "data": {
      "application/vnd.jupyter.widget-view+json": {
       "model_id": "0bf960e3bdbc4eb596f57f9eb188a3a7",
       "version_major": 2,
       "version_minor": 0
      },
      "text/plain": [
       "dense retrieval:   0%|          | 0/300 [00:00<?, ?query/s]"
      ]
     },
     "metadata": {},
     "output_type": "display_data"
    },
    {
     "name": "stdout",
     "output_type": "stream",
     "text": [
      "TRECCOVID\n"
     ]
    },
    {
     "data": {
      "application/vnd.jupyter.widget-view+json": {
       "model_id": "0247e10b92834bc090458031a1902774",
       "version_major": 2,
       "version_minor": 0
      },
      "text/plain": [
       "Loading embeddings from disk:   0%|          | 0/171332 [00:00<?, ?row/s]"
      ]
     },
     "metadata": {},
     "output_type": "display_data"
    },
    {
     "data": {
      "application/vnd.jupyter.widget-view+json": {
       "model_id": "cfdbf77ab1f94ef2869fdddc6c3389e3",
       "version_major": 2,
       "version_minor": 0
      },
      "text/plain": [
       "Loading embeddings from disk:   0%|          | 0/50 [00:00<?, ?row/s]"
      ]
     },
     "metadata": {},
     "output_type": "display_data"
    },
    {
     "data": {
      "application/vnd.jupyter.widget-view+json": {
       "model_id": "1a08f72dff79433cbd676676933ef3b4",
       "version_major": 2,
       "version_minor": 0
      },
      "text/plain": [
       "dense retrieval:   0%|          | 0/50 [00:00<?, ?query/s]"
      ]
     },
     "metadata": {},
     "output_type": "display_data"
    },
    {
     "data": {
      "application/vnd.jupyter.widget-view+json": {
       "model_id": "fd1bb2814eff4833858456e90b1ede1a",
       "version_major": 2,
       "version_minor": 0
      },
      "text/plain": [
       "dense retrieval:   0%|          | 0/50 [00:00<?, ?query/s]"
      ]
     },
     "metadata": {},
     "output_type": "display_data"
    },
    {
     "data": {
      "application/vnd.jupyter.widget-view+json": {
       "model_id": "5b5da107863c43ddb958b82a18f1d800",
       "version_major": 2,
       "version_minor": 0
      },
      "text/plain": [
       "dense retrieval:   0%|          | 0/50 [00:00<?, ?query/s]"
      ]
     },
     "metadata": {},
     "output_type": "display_data"
    },
    {
     "name": "stdout",
     "output_type": "stream",
     "text": [
      "Touche2020\n"
     ]
    },
    {
     "data": {
      "application/vnd.jupyter.widget-view+json": {
       "model_id": "3f565712c8b14ae985e373376be9841b",
       "version_major": 2,
       "version_minor": 0
      },
      "text/plain": [
       "Loading embeddings from disk:   0%|          | 0/382545 [00:00<?, ?row/s]"
      ]
     },
     "metadata": {},
     "output_type": "display_data"
    },
    {
     "data": {
      "application/vnd.jupyter.widget-view+json": {
       "model_id": "a22f89a0bf39443dbef88b0f9a175c56",
       "version_major": 2,
       "version_minor": 0
      },
      "text/plain": [
       "Loading embeddings from disk:   0%|          | 0/49 [00:00<?, ?row/s]"
      ]
     },
     "metadata": {},
     "output_type": "display_data"
    },
    {
     "data": {
      "application/vnd.jupyter.widget-view+json": {
       "model_id": "224b4bc657734279860f6d267b54dc8d",
       "version_major": 2,
       "version_minor": 0
      },
      "text/plain": [
       "dense retrieval:   0%|          | 0/49 [00:00<?, ?query/s]"
      ]
     },
     "metadata": {},
     "output_type": "display_data"
    },
    {
     "data": {
      "application/vnd.jupyter.widget-view+json": {
       "model_id": "7b9e1d9d4a364b99b070ce0c99664662",
       "version_major": 2,
       "version_minor": 0
      },
      "text/plain": [
       "dense retrieval:   0%|          | 0/49 [00:00<?, ?query/s]"
      ]
     },
     "metadata": {},
     "output_type": "display_data"
    },
    {
     "data": {
      "application/vnd.jupyter.widget-view+json": {
       "model_id": "280397793a164712abf6525cd7fdbb90",
       "version_major": 2,
       "version_minor": 0
      },
      "text/plain": [
       "dense retrieval:   0%|          | 0/49 [00:00<?, ?query/s]"
      ]
     },
     "metadata": {},
     "output_type": "display_data"
    }
   ],
   "source": [
    "names = [p.parent.name for p in sorted(embeddings_dataset_path.glob(\"*/embeddings\"))]\n",
    "print(f\"Scoring: {names}\")\n",
    "ndcg10_scores_unquantized = {}\n",
    "ndcg10_scores_quantized_8bit = {}\n",
    "ndcg10_scores_quantized_4bit = {}\n",
    "for name in tqdm(names):\n",
    "    print(name)\n",
    "    emb_dir = embeddings_dataset_path / name / \"embeddings\"\n",
    "    doc_emb_file_paths = sorted(emb_dir.glob(\"documents*.parquet\"))\n",
    "    query_emb_file_paths = sorted(emb_dir.glob(\"queries*.parquet\"))\n",
    "    doc_ids, doc_emb = load_embeddings(doc_emb_file_paths, id_column_name=COLUMN_DOC_ID, truncate_dim=TRUNCATION_DIM)\n",
    "    query_ids, query_emb = load_embeddings(query_emb_file_paths, id_column_name=COLUMN_QUERY_ID, truncate_dim=TRUNCATION_DIM)\n",
    "    qrel = load_mteb_qrels(name)\n",
    "    scores = dense_retrieval(query_ids, doc_ids, query_emb, doc_emb, 10)\n",
    "    scores_quant_8bit = dense_retrieval(query_ids, doc_ids, query_emb, doc_emb, 10, quantize_8bit_with_limit=SCALAR_QUANTIZATION_LIMIT_8BIT)\n",
    "    scores_quant_4bit = dense_retrieval(query_ids, doc_ids, query_emb, doc_emb, 10, quantize_4bit_with_limit=SCALAR_QUANTIZATION_LIMIT_4BIT)\n",
    "    ndcg10_scores_unquantized[name] = beir_evaluate(qrel, scores, k_values=[10])[0][\"NDCG@10\"]\n",
    "    ndcg10_scores_quantized_8bit[name] = beir_evaluate(qrel, scores_quant_8bit, k_values=[10])[0][\"NDCG@10\"]\n",
    "    ndcg10_scores_quantized_4bit[name] = beir_evaluate(qrel, scores_quant_4bit, k_values=[10])[0][\"NDCG@10\"]"
   ]
  },
  {
   "cell_type": "code",
   "execution_count": 20,
   "id": "55b746d9-1dd5-4424-9411-4e45181de39c",
   "metadata": {},
   "outputs": [
    {
     "data": {
      "text/html": [
       "<div>\n",
       "<style scoped>\n",
       "    .dataframe tbody tr th:only-of-type {\n",
       "        vertical-align: middle;\n",
       "    }\n",
       "\n",
       "    .dataframe tbody tr th {\n",
       "        vertical-align: top;\n",
       "    }\n",
       "\n",
       "    .dataframe thead th {\n",
       "        text-align: right;\n",
       "    }\n",
       "</style>\n",
       "<table border=\"1\" class=\"dataframe\">\n",
       "  <thead>\n",
       "    <tr style=\"text-align: right;\">\n",
       "      <th></th>\n",
       "      <th>unquantized</th>\n",
       "      <th>quantized_8bit</th>\n",
       "      <th>quantized_4bit</th>\n",
       "    </tr>\n",
       "  </thead>\n",
       "  <tbody>\n",
       "    <tr>\n",
       "      <th>ArguAna</th>\n",
       "      <td>0.584760</td>\n",
       "      <td>0.586360</td>\n",
       "      <td>0.579530</td>\n",
       "    </tr>\n",
       "    <tr>\n",
       "      <th>CQADupstackRetrieval</th>\n",
       "      <td>0.442101</td>\n",
       "      <td>0.441973</td>\n",
       "      <td>0.433432</td>\n",
       "    </tr>\n",
       "    <tr>\n",
       "      <th>ClimateFEVER</th>\n",
       "      <td>0.362290</td>\n",
       "      <td>0.361980</td>\n",
       "      <td>0.360640</td>\n",
       "    </tr>\n",
       "    <tr>\n",
       "      <th>DBPedia</th>\n",
       "      <td>0.448260</td>\n",
       "      <td>0.449460</td>\n",
       "      <td>0.437160</td>\n",
       "    </tr>\n",
       "    <tr>\n",
       "      <th>FEVER</th>\n",
       "      <td>0.872240</td>\n",
       "      <td>0.872530</td>\n",
       "      <td>0.866000</td>\n",
       "    </tr>\n",
       "    <tr>\n",
       "      <th>FiQA2018</th>\n",
       "      <td>0.416710</td>\n",
       "      <td>0.415070</td>\n",
       "      <td>0.412580</td>\n",
       "    </tr>\n",
       "    <tr>\n",
       "      <th>HotpotQA</th>\n",
       "      <td>0.691740</td>\n",
       "      <td>0.691120</td>\n",
       "      <td>0.680130</td>\n",
       "    </tr>\n",
       "    <tr>\n",
       "      <th>MSMARCO</th>\n",
       "      <td>0.412490</td>\n",
       "      <td>0.413140</td>\n",
       "      <td>0.405980</td>\n",
       "    </tr>\n",
       "    <tr>\n",
       "      <th>NFCorpus</th>\n",
       "      <td>0.357990</td>\n",
       "      <td>0.357420</td>\n",
       "      <td>0.357280</td>\n",
       "    </tr>\n",
       "    <tr>\n",
       "      <th>NQ</th>\n",
       "      <td>0.616690</td>\n",
       "      <td>0.617110</td>\n",
       "      <td>0.610180</td>\n",
       "    </tr>\n",
       "    <tr>\n",
       "      <th>QuoraRetrieval</th>\n",
       "      <td>0.871700</td>\n",
       "      <td>0.872010</td>\n",
       "      <td>0.868370</td>\n",
       "    </tr>\n",
       "    <tr>\n",
       "      <th>SCIDOCS</th>\n",
       "      <td>0.212350</td>\n",
       "      <td>0.212400</td>\n",
       "      <td>0.208740</td>\n",
       "    </tr>\n",
       "    <tr>\n",
       "      <th>SciFact</th>\n",
       "      <td>0.698110</td>\n",
       "      <td>0.698020</td>\n",
       "      <td>0.694080</td>\n",
       "    </tr>\n",
       "    <tr>\n",
       "      <th>TRECCOVID</th>\n",
       "      <td>0.833940</td>\n",
       "      <td>0.835080</td>\n",
       "      <td>0.832810</td>\n",
       "    </tr>\n",
       "    <tr>\n",
       "      <th>Touche2020</th>\n",
       "      <td>0.313680</td>\n",
       "      <td>0.317540</td>\n",
       "      <td>0.312450</td>\n",
       "    </tr>\n",
       "  </tbody>\n",
       "</table>\n",
       "</div>"
      ],
      "text/plain": [
       "                      unquantized  quantized_8bit  quantized_4bit\n",
       "ArguAna                  0.584760        0.586360        0.579530\n",
       "CQADupstackRetrieval     0.442101        0.441973        0.433432\n",
       "ClimateFEVER             0.362290        0.361980        0.360640\n",
       "DBPedia                  0.448260        0.449460        0.437160\n",
       "FEVER                    0.872240        0.872530        0.866000\n",
       "FiQA2018                 0.416710        0.415070        0.412580\n",
       "HotpotQA                 0.691740        0.691120        0.680130\n",
       "MSMARCO                  0.412490        0.413140        0.405980\n",
       "NFCorpus                 0.357990        0.357420        0.357280\n",
       "NQ                       0.616690        0.617110        0.610180\n",
       "QuoraRetrieval           0.871700        0.872010        0.868370\n",
       "SCIDOCS                  0.212350        0.212400        0.208740\n",
       "SciFact                  0.698110        0.698020        0.694080\n",
       "TRECCOVID                0.833940        0.835080        0.832810\n",
       "Touche2020               0.313680        0.317540        0.312450"
      ]
     },
     "execution_count": 20,
     "metadata": {},
     "output_type": "execute_result"
    }
   ],
   "source": [
    "df_ndcg10 = pd.DataFrame({\"unquantized\": ndcg10_scores_unquantized, \"quantized_8bit\": ndcg10_scores_quantized_8bit, \"quantized_4bit\": ndcg10_scores_quantized_4bit})\n",
    "\n",
    "# Cache results to CSV.\n",
    "df_ndcg10.to_csv(\"ndcgs_validation.csv\")\n",
    "\n",
    "# Roll up CQA Dupstack Retrieval.\n",
    "is_cqa = df_ndcg10.index.to_series().str.startswith(\"CQA\")\n",
    "cqa_mean = df_ndcg10.loc[is_cqa].mean().to_frame().T\n",
    "cqa_mean.index = [\"CQADupstackRetrieval\"]\n",
    "df_ndcg10 = pd.concat([df_ndcg10.loc[~is_cqa], cqa_mean]).sort_index()\n",
    "\n",
    "# Show scores across MTEB retrieval.\n",
    "df_ndcg10"
   ]
  },
  {
   "cell_type": "code",
   "execution_count": 21,
   "id": "0f4587e9-b0a4-4c08-9ff2-b49215b0722c",
   "metadata": {},
   "outputs": [
    {
     "data": {
      "text/plain": [
       "unquantized       0.542337\n",
       "quantized_8bit    0.542748\n",
       "quantized_4bit    0.537291\n",
       "dtype: float64"
      ]
     },
     "execution_count": 21,
     "metadata": {},
     "output_type": "execute_result"
    }
   ],
   "source": [
    "# Print mean MTEB Retrieval scores.\n",
    "df_ndcg10.mean()"
   ]
  }
 ],
 "metadata": {
  "kernelspec": {
   "display_name": "Python 3 (ipykernel)",
   "language": "python",
   "name": "python3"
  },
  "language_info": {
   "codemirror_mode": {
    "name": "ipython",
    "version": 3
   },
   "file_extension": ".py",
   "mimetype": "text/x-python",
   "name": "python",
   "nbconvert_exporter": "python",
   "pygments_lexer": "ipython3",
   "version": "3.11.7"
  }
 },
 "nbformat": 4,
 "nbformat_minor": 5
}
