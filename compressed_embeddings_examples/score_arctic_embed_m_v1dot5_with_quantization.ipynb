{
 "cells": [
  {
   "cell_type": "markdown",
   "id": "c6da107d-5646-4405-af1f-af31c3654556",
   "metadata": {},
   "source": [
    "# Overview\n",
    "\n",
    "This notebook demonstrates the high retrieval quality at small (128 byte) embedding vectors from the `snowflake-arctic-m-v1.5` model.\n",
    "\n",
    "We begin by loading the full 768-dimensional embeddings in full float32 precision (these precomputed embeddings are made available as a Huggingface dataset). We then demonstrate proper truncation with renormalization to unit norm, plus uniform scalar quantization to int4 datatype. The final result is a reproduction of our 53.7 MTEB retrieval score at 128 bytes per vector.\n",
    "\n",
    "## Int4 Quantization\n",
    "\n",
    "Given a floating point number $f$ and a min/max clipping limit $b$ (e.g. clipping to the range -0.18 to 0.18), uniform scalar quantization to $k$ levels (where $k = 16$ for a 4-bit quantization) will entail a spacing between levels of $c = 2 * b / (k - 1)$. If we term the integer result of this quantization $i$, we have the following mappings between float and integer:\n",
    "\n",
    "$$i = \\text{round}\\left(\\frac{f + b}{c}\\right)$$\n",
    "$$f \\approx c \\cdot i - b$$\n",
    "\n",
    "Furthermore, we can perform floating point multiplication via integers for a faster implementation:\n",
    "\n",
    "$$f_1 \\cdot f_2 \\approx (c i_1 - b)(c i_2 - b)$$\n",
    "$$f_1 \\cdot f_2 \\approx c^2 i_1 i_2 - c b (i_1 + i_2) + b^2$$\n",
    "\n",
    "When $c$ and $b$ are constant across all $f$'s, we can perform a vector dot product even more efficiently by factoring out the constants further:\n",
    "\n",
    "$$\\langle \\pmb{f}_1, \\pmb{f}_2 \\rangle = \\sum_{k=1}^{K}f_1^{(k)} \\cdot f_2^{(k)} \\approx \\sum_{k} \\left( c^2 i_1^{(k)} i_2^{(k)} - c b (i_1^{(k)} + i_2^{(k)}) + b^2 \\right)$$\n",
    "$$\\langle \\pmb{f}_1, \\pmb{f}_2 \\rangle \\approx c^2 \\cdot \\sum_{k} \\left(  i_1^{(k)} i_2^{(k)} \\right) - c b \\cdot \\sum_{k} \\left( i_1^{(k)} + i_2^{(k)} \\right) + \\sum_{k} \\left(b^2 \\right)$$\n",
    "$$\\langle \\pmb{f}_1, \\pmb{f}_2 \\rangle \\approx c^2 \\cdot \\sum_{k} \\left(  i_1^{(k)} i_2^{(k)} \\right)  - c b \\left( \\sum_{k} \\left( i_1^{(k)} \\right) + \\sum_{k} \\left( i_2^{(k)} \\right) \\right) + K \\cdot b^2 $$\n",
    "$$\\langle \\pmb{f}_1, \\pmb{f}_2 \\rangle \\approx c^2 \\cdot \\langle \\pmb{i}_1, \\pmb{i}_2 \\rangle  - c b \\left( \\text{sum}(\\pmb{i}_1) + \\text{sum}(\\pmb{i}_2) \\right) + K \\cdot b^2 $$\n",
    "\n",
    "\n",
    "## Integer quantization in practice\n",
    "\n",
    "Using modern CPU hardware and [SIMD](https://en.wikipedia.org/wiki/Single_instruction,_multiple_data) programming, it is possible to perform these integer multiplications very quickly, with well-executed implementation often bottlenecked by memory bandwidth (i.e. performing vector similarity calculations as fast as the vectors can be passed from RAM to CPU -- very fast indeed!). Since int4 quantization reduces the memory footprint of embedding vectors, this means that it has the potential to not just reduce RAM requirements for storing large collections of vectors, but also to accelerate vector similarity calculations. \n",
    "\n",
    "Below, however, we are just doing our best with `numba` to implement a working, fast-enough-to-run-eventually evaluation. The highly-optimized BLAS-based float32 vector similarity operation on uncompressed vectors actually runs substantially faster on most machines up until a very high CPU count in our experimentation. However, our implementation is fairly readable and runs fast enough to get a full evaluation completed in under an hour, so you may find it useful despite its lack of low-level optimizations."
   ]
  },
  {
   "cell_type": "code",
   "execution_count": 1,
   "id": "a3aed8c9-bb75-4755-aa1a-557d2084fe84",
   "metadata": {},
   "outputs": [],
   "source": [
    "!pip install -q numpy pandas torch numba pytrec-eval pyarrow tqdm huggingface-hub beir Cython"
   ]
  },
  {
   "cell_type": "code",
   "execution_count": 2,
   "id": "02cb1499-5925-4496-a841-f4b96545e524",
   "metadata": {},
   "outputs": [],
   "source": [
    "%load_ext cython"
   ]
  },
  {
   "cell_type": "code",
   "execution_count": 3,
   "id": "d5c18971-f9f2-48b3-abdd-365a7ddcbc78",
   "metadata": {},
   "outputs": [],
   "source": [
    "import json\n",
    "import logging\n",
    "from multiprocessing.pool import ThreadPool\n",
    "from multiprocessing import cpu_count\n",
    "from pathlib import Path\n",
    "from typing import cast\n",
    "\n",
    "import huggingface_hub\n",
    "import numba\n",
    "import numpy as np\n",
    "import pandas as pd\n",
    "import pytrec_eval\n",
    "import pyarrow as pa\n",
    "import pyarrow.parquet as pq\n",
    "import torch\n",
    "import torch.nn.functional as F\n",
    "from beir.retrieval.evaluation import EvaluateRetrieval\n",
    "from numpy.typing import NDArray\n",
    "from tqdm.auto import tqdm\n",
    "\n",
    "# Alias this static evalution function for standalone use.\n",
    "beir_evaluate = EvaluateRetrieval.evaluate"
   ]
  },
  {
   "cell_type": "code",
   "execution_count": 4,
   "id": "1fbd2611-b058-416a-b8d4-b6ada8e68f84",
   "metadata": {},
   "outputs": [],
   "source": [
    "# Global config.\n",
    "EMBEDDINGS_DATASET_ID = \"Snowflake/mteb-retrieval-snowflake-arctic-embed-m-v1.5\"\n",
    "COLUMN_DOC_ID = \"DOC_ID\"\n",
    "COLUMN_QUERY_ID = \"QUERY_ID\"\n",
    "COLUMN_VECTOR = \"VECTOR_MAIN\"\n",
    "SCALAR_QUANTIZATION_LIMIT = 0.18\n",
    "TRUNCATION_DIM = 256"
   ]
  },
  {
   "cell_type": "code",
   "execution_count": 5,
   "id": "b4511e4a-f7ae-4918-95e0-c06477c92178",
   "metadata": {},
   "outputs": [],
   "source": [
    "%%cython --compile-args=-fopenmp --link-args=-fopenmp\n",
    "\n",
    "# A compiled parallelized int4 dotproduct operation designed to run pretty fast\n",
    "# (though not nearly as optimized as true BLAS systems).\n",
    "\n",
    "import cython\n",
    "from cython.parallel import prange\n",
    "\n",
    "@cython.boundscheck(False)\n",
    "@cython.wraparound(False)\n",
    "def inner_query_doc_4bit_dotproduct_cython(\n",
    "    cython.float[:, ::1] out,\n",
    "    cython.char[:, ::1] query,\n",
    "    cython.char[:, ::1] doc,\n",
    "    cython.float limit,\n",
    "    cython.long n,\n",
    "    cython.long m,\n",
    "    cython.long d_packed\n",
    "):\n",
    "    cdef cython.float bin_width = 2 * limit / 15\n",
    "    cdef cython.int i, j, k\n",
    "    cdef cython.char qv1, qv2, dv1, dv2\n",
    "    cdef cython.uint sum_of_sums, sum_of_prods\n",
    "    for j in prange(m, nogil=True):  # NOTE: We paralellize over docs to support parallel single-query runs.\n",
    "        for i in range(n):\n",
    "            sum_of_sums = 0\n",
    "            sum_of_prods = 0\n",
    "            for k in range(d_packed):\n",
    "                # Unpack the values from this byte.\n",
    "                qv1 = query[i, k] >> 4\n",
    "                qv2 = query[i, k] & 0b1111\n",
    "                dv1 = doc[j, k] >> 4\n",
    "                dv2 = doc[j, k] & 0b1111\n",
    "\n",
    "                # Accumulate running statistics.\n",
    "                sum_of_sums = sum_of_sums + qv1 + dv1 + qv2 + dv2\n",
    "                sum_of_prods = sum_of_prods + qv1 * dv1 + qv2 * dv2\n",
    "\n",
    "            # Convert from integer statistics back to floating point.\n",
    "            out[i, j] = (\n",
    "                limit * limit * float(2 * d_packed)\n",
    "                - limit * bin_width * float(sum_of_sums)\n",
    "                + bin_width * bin_width * float(sum_of_prods)\n",
    "            )"
   ]
  },
  {
   "cell_type": "code",
   "execution_count": 6,
   "id": "17b7c154-8d79-4441-956a-3194ef5076f4",
   "metadata": {},
   "outputs": [],
   "source": [
    "# Utility functions.\n",
    "\n",
    "#### BEGIN LOADING EMBEDDINGS ####\n",
    "\n",
    "def load_embeddings(\n",
    "    pq_paths: list[Path],\n",
    "    id_column_name: str,\n",
    "    vector_column_name: str = COLUMN_VECTOR,\n",
    "    truncate_dim: int | None = None,\n",
    "    num_read_threads: int = 10,\n",
    ") -> tuple[list[str], NDArray[np.float32]]:\n",
    "    total_rows = _total_rows(pq_paths)\n",
    "    vector_chunks = []\n",
    "    ids = []\n",
    "    with tqdm(total=total_rows, unit=\"row\", desc=\"Loading embeddings from disk\") as pbar, ThreadPool(num_read_threads) as pool:\n",
    "        table_iter = pool.imap(pq.read_table, pq_paths)\n",
    "        for table in table_iter:\n",
    "            id_chunk = table[id_column_name].to_pylist()\n",
    "            vector_chunk = _pa_vector_column_to_np_matrix(table[vector_column_name])\n",
    "            if truncate_dim is not None:\n",
    "                vector_chunk = truncate_embeddings(vector_chunk, truncate_dim)\n",
    "            assert len(id_chunk) == vector_chunk.shape[0]\n",
    "            ids.extend(id_chunk)\n",
    "            vector_chunks.append(vector_chunk)\n",
    "            pbar.update(len(id_chunk))\n",
    "    return ids, np.row_stack(vector_chunks)\n",
    "\n",
    "def _pa_vector_column_to_np_matrix(pa_array: pa.ChunkedArray) -> NDArray[np.float32]:\n",
    "    embed_dim = len(pa_array[0])\n",
    "    res = pa_array.combine_chunks().flatten().to_numpy().reshape(-1, embed_dim)\n",
    "    return cast(NDArray[np.float32], res)\n",
    "\n",
    "\n",
    "def _normalize_embeddings(embedings_matrix: NDArray[np.float32]) -> NDArray[np.float32]:\n",
    "    \"\"\"Normalize embeddings to unit norm along axis 1.\"\"\"\n",
    "    return cast(\n",
    "        NDArray[np.float32], F.normalize(torch.tensor(embedings_matrix), dim=1).numpy()\n",
    "    )\n",
    "\n",
    "def truncate_embeddings(embedings_matrix: NDArray[np.float32], dim: int) -> NDArray[np.float32]:\n",
    "    \"\"\"Truncate and renomalize embeddings to lower dimensionality.\"\"\"\n",
    "    assert dim <= embedings_matrix.shape[1]\n",
    "    return _normalize_embeddings(embedings_matrix[:, :dim])\n",
    "\n",
    "def _total_rows(pq_paths: list[Path]) -> int:\n",
    "    total = 0\n",
    "    for p in pq_paths:\n",
    "        with pq.ParquetFile(p) as pqf:\n",
    "            total += pqf.metadata.num_rows\n",
    "    return total\n",
    "\n",
    "\n",
    "#### BEGIN 4BIT QUANTIZATION ####\n",
    "\n",
    "@numba.njit(error_model=\"numpy\", parallel=True)\n",
    "def fast_4bit_uniform_scalar_quantize(\n",
    "    emb_matrix: NDArray[np.float32], limit: float\n",
    ") -> NDArray[np.uint8]:\n",
    "    num_row, num_col = emb_matrix.shape\n",
    "    assert num_col % 2 == 0\n",
    "    assert limit > 0\n",
    "    out = np.empty((num_row, num_col // 2), dtype=np.uint8)\n",
    "    bin_width = 2 * limit / 15\n",
    "    for i in numba.prange(num_row):\n",
    "        row = emb_matrix[i, :]\n",
    "        for out_j in range(num_col // 2):\n",
    "            # Pull out two values at a time.\n",
    "            in_j = out_j * 2\n",
    "            value1 = row[in_j]\n",
    "            value2 = row[in_j + 1]\n",
    "\n",
    "            # 4-bit quantize the values.\n",
    "            value1 = round(max(0, min(2 * limit, limit + value1)) / bin_width)\n",
    "            value2 = round(max(0, min(2 * limit, limit + value2)) / bin_width)\n",
    "\n",
    "            # Pack the values into a single uint8.\n",
    "            value_packed = (value1 << 4) | value2\n",
    "            out[i, out_j] = value_packed\n",
    "\n",
    "    return out\n",
    "\n",
    "def uint8_matmul(a: NDArray[np.uint8], b: NDArray[np.uint8], out=None) -> NDArray[np.int32]:\n",
    "    \"\"\"\n",
    "    NOTE: A direct `a @ b` will cause integer overflow in datatype uint8.\n",
    "    NOTE: `np.matmul(a, b, dtype=np.int32)` was ~4x slower than the `np.einsum` version on my machine.\n",
    "    \"\"\"\n",
    "    n, d = a.shape\n",
    "    d2, m = b.shape\n",
    "    assert d2 == d\n",
    "    # return np.matmul(a, b, dtype=np.int32)  # SLOW!\n",
    "    return np.einsum(\"ik, kj -> ij\", a, b, dtype=np.int32, out=out)\n",
    "\n",
    "\n",
    "def fast_multi_query_4bit_dotproduct(\n",
    "    query_emb_quant: NDArray[np.uint8], doc_emb_quant: NDArray[np.uint8], limit: float\n",
    ") -> NDArray[np.uint32]:\n",
    "    num_query, dim_packed = query_emb_quant.shape\n",
    "    num_doc, dim_packed2 = doc_emb_quant.shape\n",
    "    assert dim_packed == dim_packed2\n",
    "    assert limit > 0\n",
    "    assert query_emb_quant.flags.c_contiguous\n",
    "    assert doc_emb_quant.flags.c_contiguous\n",
    "    out = np.zeros((num_query, num_doc), dtype=np.float32)\n",
    "    inner_query_doc_4bit_dotproduct_cython(out, query_emb_quant, doc_emb_quant, limit, num_query, num_doc, dim_packed)\n",
    "    return out\n",
    "\n",
    "\n",
    "\n",
    "#### BEGIN RETRIEVAL AND IR EVALUATION ####\n",
    "\n",
    "# NOTE: Without `numba` JIT compiling, this function can be quite slow and take a *ton* of RAM at large batch sizes.\n",
    "@numba.njit(error_model=\"numpy\", parallel=True)\n",
    "def sorted_indices_and_scores(scores: NDArray[np.float32], depth: int) -> tuple[NDArray[np.int64], NDArray[np.float32]]:\n",
    "    idx_argpartition = np.argpartition(scores, -depth, axis=1)\n",
    "    topk_indices_slice = idx_argpartition[:, -depth:]\n",
    "    topk_scores = np.take_along_axis(scores_slice, topk_indices_slice, axis=1)\n",
    "    idx_argsort = np.argsort(-topk_scores)\n",
    "    topk_indices_sorted = np.take_along_axis(topk_indices_slice, idx_argsort, axis=1)\n",
    "    topk_scores_sorted = np.take_along_axis(topk_scores, idx_argsort, axis=1)\n",
    "    return topk_indices_sorted, topk_scores_sorted\n",
    "\n",
    "\n",
    "def dense_retrieval(\n",
    "    query_ids: list[str],\n",
    "    doc_ids: list[str],\n",
    "    query_embeddings: NDArray[np.float32],\n",
    "    doc_embeddings: NDArray[np.float32],\n",
    "    retrieval_depth: int,\n",
    "    quantize_4bit_with_limit: float | None = None,\n",
    "    batch_size: int = 64,\n",
    ") -> dict[str, dict[str, float]]:\n",
    "    \"\"\"Perform dense retrieval with a set of ids and embeddings to get query results.\"\"\"\n",
    "    if quantize_4bit_with_limit is not None:\n",
    "        query_embeddings = fast_4bit_uniform_scalar_quantize(query_embeddings, quantize_4bit_with_limit)\n",
    "        doc_embeddings = fast_4bit_uniform_scalar_quantize(doc_embeddings, quantize_4bit_with_limit)\n",
    "    \n",
    "    query_results = {}\n",
    "    num_queries, num_docs = query_embeddings.shape[0], doc_embeddings.shape[0]\n",
    "    retrieval_depth = min(retrieval_depth, num_docs)\n",
    "\n",
    "    batch_slices = [slice(start_i, start_i + batch_size) for start_i in range(0, num_queries, batch_size)]\n",
    "    with tqdm(total=num_queries, desc=\"dense retrieval\", unit=\"query\") as pbar:\n",
    "        for batch_slice in batch_slices:\n",
    "            q_emb_slice = query_embeddings[batch_slice]\n",
    "            if quantize_4bit_with_limit is None:\n",
    "                scores_slice = q_emb_slice @ doc_embeddings.T\n",
    "            else:\n",
    "                scores_slice = fast_multi_query_4bit_dotproduct(q_emb_slice, doc_embeddings, quantize_4bit_with_limit)\n",
    "                \n",
    "            # Get indices and values of top-k scores.\n",
    "            topk = torch.topk(torch.tensor(scores_slice), retrieval_depth)\n",
    "            topk_indices_sorted = topk.indices.numpy()\n",
    "            topk_scores_sorted = topk.values.numpy()\n",
    "    \n",
    "            # Convert each set of scores in the slice to a top-k dictionary.\n",
    "            query_ids_slice = query_ids[batch_slice]\n",
    "            for slice_offset in range(scores_slice.shape[0]):\n",
    "                # Populate the results dictionary.\n",
    "                query_id = query_ids_slice[slice_offset]\n",
    "                sorted_doc_ids = [doc_ids[idx] for idx in topk_indices_sorted[slice_offset]]\n",
    "                query_results[query_id] = dict(zip(sorted_doc_ids, topk_scores_sorted[slice_offset].tolist()))\n",
    "            pbar.update(len(query_ids_slice))\n",
    "\n",
    "    return query_results"
   ]
  },
  {
   "cell_type": "code",
   "execution_count": 7,
   "id": "2e3883f8-f5de-4868-bd12-920c889dd670",
   "metadata": {
    "scrolled": true
   },
   "outputs": [
    {
     "data": {
      "application/vnd.jupyter.widget-view+json": {
       "model_id": "2bc6d09874b74e1c99392d6f84625c9c",
       "version_major": 2,
       "version_minor": 0
      },
      "text/plain": [
       "Fetching 597 files:   0%|          | 0/597 [00:00<?, ?it/s]"
      ]
     },
     "metadata": {},
     "output_type": "display_data"
    }
   ],
   "source": [
    "# Download the precomputed embeddings for MTEB Retrieval.\n",
    "# NOTE: The full dataset is around ~100GB.\n",
    "\n",
    "# # Example of downloading a subset of datasets.\n",
    "# dataset_subset = [\"NFCorpus\", \"FiQA2018\"]\n",
    "# embeddings_dataset_path_str = huggingface_hub.snapshot_download(\n",
    "#     repo_id=EMBEDDINGS_DATASET_ID,\n",
    "#     repo_type=\"dataset\",\n",
    "#     allow_patterns=[\"_qrels/*\"] + [f\"{x}/*\" for x in dataset_subset],\n",
    "# )\n",
    "\n",
    "embeddings_dataset_path_str = huggingface_hub.snapshot_download(\n",
    "    repo_id=EMBEDDINGS_DATASET_ID, repo_type=\"dataset\"\n",
    ")\n",
    "embeddings_dataset_path = Path(embeddings_dataset_path_str)"
   ]
  },
  {
   "cell_type": "markdown",
   "id": "e7247902-0e54-4d65-9525-158ab2662947",
   "metadata": {},
   "source": [
    "# Demonstration of retrieval on a single dataset"
   ]
  },
  {
   "cell_type": "code",
   "execution_count": 8,
   "id": "b43a15d6-c3c7-4969-b7ac-63612c777be6",
   "metadata": {},
   "outputs": [
    {
     "data": {
      "application/vnd.jupyter.widget-view+json": {
       "model_id": "3d44d137385a4e65948b6cc89d276d35",
       "version_major": 2,
       "version_minor": 0
      },
      "text/plain": [
       "Loading embeddings from disk:   0%|          | 0/522931 [00:00<?, ?row/s]"
      ]
     },
     "metadata": {},
     "output_type": "display_data"
    },
    {
     "data": {
      "application/vnd.jupyter.widget-view+json": {
       "model_id": "dae00bc0a7554cd4bd07c3efbe70229a",
       "version_major": 2,
       "version_minor": 0
      },
      "text/plain": [
       "Loading embeddings from disk:   0%|          | 0/10000 [00:00<?, ?row/s]"
      ]
     },
     "metadata": {},
     "output_type": "display_data"
    }
   ],
   "source": [
    "example_dataset = \"QuoraRetrieval\"\n",
    "emb_dir = embeddings_dataset_path / example_dataset / \"embeddings\"\n",
    "doc_emb_file_paths = sorted(emb_dir.glob(\"documents*.parquet\"))\n",
    "query_emb_file_paths = sorted(emb_dir.glob(\"queries*.parquet\"))\n",
    "doc_ids, doc_emb = load_embeddings(doc_emb_file_paths, id_column_name=COLUMN_DOC_ID, truncate_dim=TRUNCATION_DIM)\n",
    "query_ids, query_emb = load_embeddings(query_emb_file_paths, id_column_name=COLUMN_QUERY_ID, truncate_dim=TRUNCATION_DIM)"
   ]
  },
  {
   "cell_type": "code",
   "execution_count": 9,
   "id": "f5d9fb01-fd7f-4738-81b8-1b17b599c6e2",
   "metadata": {},
   "outputs": [
    {
     "data": {
      "application/vnd.jupyter.widget-view+json": {
       "model_id": "74e53f0588d74951bac00b34745b3ca4",
       "version_major": 2,
       "version_minor": 0
      },
      "text/plain": [
       "dense retrieval:   0%|          | 0/10000 [00:00<?, ?query/s]"
      ]
     },
     "metadata": {},
     "output_type": "display_data"
    },
    {
     "name": "stdout",
     "output_type": "stream",
     "text": [
      "CPU times: user 3min 10s, sys: 16 s, total: 3min 26s\n",
      "Wall time: 22.3 s\n"
     ]
    }
   ],
   "source": [
    "%%time\n",
    "scores = dense_retrieval(query_ids, doc_ids, query_emb, doc_emb, retrieval_depth=10)"
   ]
  },
  {
   "cell_type": "code",
   "execution_count": 10,
   "id": "fafc12bb-9cc3-4cb9-b7ee-e95b36d54ef4",
   "metadata": {},
   "outputs": [
    {
     "data": {
      "application/vnd.jupyter.widget-view+json": {
       "model_id": "f8336e5aae0f41f1a9b8cc580ea5877b",
       "version_major": 2,
       "version_minor": 0
      },
      "text/plain": [
       "dense retrieval:   0%|          | 0/10000 [00:00<?, ?query/s]"
      ]
     },
     "metadata": {},
     "output_type": "display_data"
    },
    {
     "name": "stdout",
     "output_type": "stream",
     "text": [
      "CPU times: user 2min 9s, sys: 19.7 s, total: 2min 28s\n",
      "Wall time: 22.6 s\n"
     ]
    }
   ],
   "source": [
    "%%time\n",
    "# NOTE: This code isn't super fast because even with our `numba` \"fast\" implementation above, our code for int4 matmuls is\n",
    "# much much less optimized than standard float32 matmul code behind non-int4-quantized dense retrieval.\n",
    "scores_quant = dense_retrieval(\n",
    "    query_ids,\n",
    "    doc_ids,\n",
    "    query_emb,\n",
    "    doc_emb,\n",
    "    retrieval_depth=10,\n",
    "    quantize_4bit_with_limit=SCALAR_QUANTIZATION_LIMIT,\n",
    ")"
   ]
  },
  {
   "cell_type": "code",
   "execution_count": 11,
   "id": "5d571420-8dde-4354-b569-12c2fc7362c9",
   "metadata": {},
   "outputs": [],
   "source": [
    "def load_mteb_qrels(task_name: str) -> dict:\n",
    "    path = embeddings_dataset_path / \"_qrels\" / f\"{task_name}.json\"\n",
    "    return json.loads(path.read_text())\n",
    "\n",
    "qrel = load_mteb_qrels(example_dataset)"
   ]
  },
  {
   "cell_type": "code",
   "execution_count": 12,
   "id": "c29b0412-c4cb-4ecf-8b72-1126e77488be",
   "metadata": {},
   "outputs": [
    {
     "data": {
      "text/plain": [
       "(0.8717, 0.86837)"
      ]
     },
     "execution_count": 12,
     "metadata": {},
     "output_type": "execute_result"
    }
   ],
   "source": [
    "score_unquant = beir_evaluate(qrel, scores, k_values=[10])[0][\"NDCG@10\"]\n",
    "score_quant = beir_evaluate(qrel, scores_quant, k_values=[10])[0][\"NDCG@10\"]\n",
    "score_unquant, score_quant"
   ]
  },
  {
   "cell_type": "markdown",
   "id": "4ff431e1-cf6f-46d0-91b5-3582fdf3e373",
   "metadata": {},
   "source": [
    "# Single-query speedup example\n",
    "\n",
    "Our \"casual\" int4 dotproduct implementation doesn't actually keep up with the highly-tuned BLAS system that numpy uses for float32 matrix multiplication when it comes to the batch retrieval above. However, on the easier-to-optimize vector-matrix multiplication used for single-query lookup (which is what's actually the most common case in live retrieval systems!), our implementation does start to hint at the runtime improvements possible."
   ]
  },
  {
   "cell_type": "code",
   "execution_count": 13,
   "id": "473f75ef-b3ce-404d-9218-e84ffc2b4bac",
   "metadata": {},
   "outputs": [],
   "source": [
    "q_vec = query_emb[0]"
   ]
  },
  {
   "cell_type": "code",
   "execution_count": 14,
   "id": "11176b35-1376-4652-952b-42f65d6bf16a",
   "metadata": {},
   "outputs": [
    {
     "name": "stdout",
     "output_type": "stream",
     "text": [
      "6.22 ms ± 1.29 ms per loop (mean ± std. dev. of 7 runs, 100 loops each)\n"
     ]
    }
   ],
   "source": [
    "%%timeit\n",
    "_ = q_vec[None, :] @ doc_emb.T"
   ]
  },
  {
   "cell_type": "code",
   "execution_count": 15,
   "id": "d825ff58-cbe5-4ad2-969d-fc95deeb81e8",
   "metadata": {},
   "outputs": [],
   "source": [
    "q_vec_quant = fast_4bit_uniform_scalar_quantize(q_vec[None, :], SCALAR_QUANTIZATION_LIMIT)\n",
    "doc_emb_quant = fast_4bit_uniform_scalar_quantize(doc_emb, SCALAR_QUANTIZATION_LIMIT)"
   ]
  },
  {
   "cell_type": "code",
   "execution_count": 16,
   "id": "5d166e92-fc16-4ff7-8b81-0862d1fbdf1b",
   "metadata": {},
   "outputs": [
    {
     "name": "stdout",
     "output_type": "stream",
     "text": [
      "2.27 ms ± 106 µs per loop (mean ± std. dev. of 7 runs, 100 loops each)\n"
     ]
    }
   ],
   "source": [
    "%%timeit\n",
    "_ = fast_multi_query_4bit_dotproduct(q_vec_quant, doc_emb_quant, SCALAR_QUANTIZATION_LIMIT)"
   ]
  },
  {
   "cell_type": "code",
   "execution_count": 17,
   "id": "75b259b7-5020-4274-abb8-2952ae2ca558",
   "metadata": {},
   "outputs": [
    {
     "name": "stdout",
     "output_type": "stream",
     "text": [
      "Relative error μ ± σ: 2.99% ± 2.59%\n"
     ]
    }
   ],
   "source": [
    "unquant_scores = q_vec @ doc_emb.T\n",
    "quant_scores = fast_multi_query_4bit_dotproduct(q_vec_quant, doc_emb_quant, SCALAR_QUANTIZATION_LIMIT)\n",
    "relative_error = np.abs(unquant_scores - quant_scores) / unquant_scores\n",
    "print(f\"Relative error μ ± σ: {relative_error.mean():.2%} ± {relative_error.std():.2%}\")"
   ]
  },
  {
   "cell_type": "markdown",
   "id": "6dfbd2e2-2277-483e-b161-7426df45c37d",
   "metadata": {},
   "source": [
    "# Score all the datasets\n",
    "\n",
    "Below we provide a reproducible implementation of int4 compressed retrieval quality scoring to show how `snowflake-arctic-embed-m-v1.5` is capable of achieving a 53.7 MTEB Retrieval score in just 128 bytes per vector. "
   ]
  },
  {
   "cell_type": "code",
   "execution_count": 18,
   "id": "791543bb-35a2-4152-b143-2a22c4733a29",
   "metadata": {},
   "outputs": [
    {
     "name": "stdout",
     "output_type": "stream",
     "text": [
      "Scoring: ['ArguAna', 'CQADupstackAndroidRetrieval', 'CQADupstackEnglishRetrieval', 'CQADupstackGamingRetrieval', 'CQADupstackGisRetrieval', 'CQADupstackMathematicaRetrieval', 'CQADupstackPhysicsRetrieval', 'CQADupstackProgrammersRetrieval', 'CQADupstackStatsRetrieval', 'CQADupstackTexRetrieval', 'CQADupstackUnixRetrieval', 'CQADupstackWebmastersRetrieval', 'CQADupstackWordpressRetrieval', 'ClimateFEVER', 'DBPedia', 'FEVER', 'FiQA2018', 'HotpotQA', 'MSMARCO', 'NFCorpus', 'NQ', 'QuoraRetrieval', 'SCIDOCS', 'SciFact', 'TRECCOVID', 'Touche2020']\n"
     ]
    },
    {
     "data": {
      "application/vnd.jupyter.widget-view+json": {
       "model_id": "ea4319e3b0bf42828d3558340bf73927",
       "version_major": 2,
       "version_minor": 0
      },
      "text/plain": [
       "  0%|          | 0/26 [00:00<?, ?it/s]"
      ]
     },
     "metadata": {},
     "output_type": "display_data"
    },
    {
     "name": "stdout",
     "output_type": "stream",
     "text": [
      "ArguAna\n"
     ]
    },
    {
     "data": {
      "application/vnd.jupyter.widget-view+json": {
       "model_id": "ef16fd398b5a4a93a2f3336330dfb5c0",
       "version_major": 2,
       "version_minor": 0
      },
      "text/plain": [
       "Loading embeddings from disk:   0%|          | 0/8674 [00:00<?, ?row/s]"
      ]
     },
     "metadata": {},
     "output_type": "display_data"
    },
    {
     "data": {
      "application/vnd.jupyter.widget-view+json": {
       "model_id": "7bce4965a13743b5bd041d5a4f8e49ef",
       "version_major": 2,
       "version_minor": 0
      },
      "text/plain": [
       "Loading embeddings from disk:   0%|          | 0/1406 [00:00<?, ?row/s]"
      ]
     },
     "metadata": {},
     "output_type": "display_data"
    },
    {
     "data": {
      "application/vnd.jupyter.widget-view+json": {
       "model_id": "c1185249826a46fcac56893d2efda0ba",
       "version_major": 2,
       "version_minor": 0
      },
      "text/plain": [
       "dense retrieval:   0%|          | 0/1406 [00:00<?, ?query/s]"
      ]
     },
     "metadata": {},
     "output_type": "display_data"
    },
    {
     "data": {
      "application/vnd.jupyter.widget-view+json": {
       "model_id": "81bf2e8092ff4f73926d39f12edf97e0",
       "version_major": 2,
       "version_minor": 0
      },
      "text/plain": [
       "dense retrieval:   0%|          | 0/1406 [00:00<?, ?query/s]"
      ]
     },
     "metadata": {},
     "output_type": "display_data"
    },
    {
     "name": "stdout",
     "output_type": "stream",
     "text": [
      "CQADupstackAndroidRetrieval\n"
     ]
    },
    {
     "data": {
      "application/vnd.jupyter.widget-view+json": {
       "model_id": "139275e9c7f74ad5ad01e7335c7d5139",
       "version_major": 2,
       "version_minor": 0
      },
      "text/plain": [
       "Loading embeddings from disk:   0%|          | 0/22998 [00:00<?, ?row/s]"
      ]
     },
     "metadata": {},
     "output_type": "display_data"
    },
    {
     "data": {
      "application/vnd.jupyter.widget-view+json": {
       "model_id": "2973eb495cd0478ba34a70ba738bc3e9",
       "version_major": 2,
       "version_minor": 0
      },
      "text/plain": [
       "Loading embeddings from disk:   0%|          | 0/699 [00:00<?, ?row/s]"
      ]
     },
     "metadata": {},
     "output_type": "display_data"
    },
    {
     "data": {
      "application/vnd.jupyter.widget-view+json": {
       "model_id": "241639506eb243998bd447fa38b5f9ca",
       "version_major": 2,
       "version_minor": 0
      },
      "text/plain": [
       "dense retrieval:   0%|          | 0/699 [00:00<?, ?query/s]"
      ]
     },
     "metadata": {},
     "output_type": "display_data"
    },
    {
     "data": {
      "application/vnd.jupyter.widget-view+json": {
       "model_id": "190d7271648346ae82bfb6ebe84c5d5b",
       "version_major": 2,
       "version_minor": 0
      },
      "text/plain": [
       "dense retrieval:   0%|          | 0/699 [00:00<?, ?query/s]"
      ]
     },
     "metadata": {},
     "output_type": "display_data"
    },
    {
     "name": "stdout",
     "output_type": "stream",
     "text": [
      "CQADupstackEnglishRetrieval\n"
     ]
    },
    {
     "data": {
      "application/vnd.jupyter.widget-view+json": {
       "model_id": "9fad8069a5ba4c63aad958edc8a0182d",
       "version_major": 2,
       "version_minor": 0
      },
      "text/plain": [
       "Loading embeddings from disk:   0%|          | 0/40221 [00:00<?, ?row/s]"
      ]
     },
     "metadata": {},
     "output_type": "display_data"
    },
    {
     "data": {
      "application/vnd.jupyter.widget-view+json": {
       "model_id": "3cd2d292590647f4929546769ad97c98",
       "version_major": 2,
       "version_minor": 0
      },
      "text/plain": [
       "Loading embeddings from disk:   0%|          | 0/1570 [00:00<?, ?row/s]"
      ]
     },
     "metadata": {},
     "output_type": "display_data"
    },
    {
     "data": {
      "application/vnd.jupyter.widget-view+json": {
       "model_id": "c1b35f67c6534202b95c9c8af39b452c",
       "version_major": 2,
       "version_minor": 0
      },
      "text/plain": [
       "dense retrieval:   0%|          | 0/1570 [00:00<?, ?query/s]"
      ]
     },
     "metadata": {},
     "output_type": "display_data"
    },
    {
     "data": {
      "application/vnd.jupyter.widget-view+json": {
       "model_id": "64f5dd8ee38e4eaaa3c8c346a06d2e76",
       "version_major": 2,
       "version_minor": 0
      },
      "text/plain": [
       "dense retrieval:   0%|          | 0/1570 [00:00<?, ?query/s]"
      ]
     },
     "metadata": {},
     "output_type": "display_data"
    },
    {
     "name": "stdout",
     "output_type": "stream",
     "text": [
      "CQADupstackGamingRetrieval\n"
     ]
    },
    {
     "data": {
      "application/vnd.jupyter.widget-view+json": {
       "model_id": "22d4b58aae02416d88cf4001d7025e03",
       "version_major": 2,
       "version_minor": 0
      },
      "text/plain": [
       "Loading embeddings from disk:   0%|          | 0/45301 [00:00<?, ?row/s]"
      ]
     },
     "metadata": {},
     "output_type": "display_data"
    },
    {
     "data": {
      "application/vnd.jupyter.widget-view+json": {
       "model_id": "e3ee562e93ea484383a12b77383a7abf",
       "version_major": 2,
       "version_minor": 0
      },
      "text/plain": [
       "Loading embeddings from disk:   0%|          | 0/1595 [00:00<?, ?row/s]"
      ]
     },
     "metadata": {},
     "output_type": "display_data"
    },
    {
     "data": {
      "application/vnd.jupyter.widget-view+json": {
       "model_id": "a21f223e705a4c00ba70494ca5ab4764",
       "version_major": 2,
       "version_minor": 0
      },
      "text/plain": [
       "dense retrieval:   0%|          | 0/1595 [00:00<?, ?query/s]"
      ]
     },
     "metadata": {},
     "output_type": "display_data"
    },
    {
     "data": {
      "application/vnd.jupyter.widget-view+json": {
       "model_id": "f91ef44c5da5473fa5f3dfe146b9e92b",
       "version_major": 2,
       "version_minor": 0
      },
      "text/plain": [
       "dense retrieval:   0%|          | 0/1595 [00:00<?, ?query/s]"
      ]
     },
     "metadata": {},
     "output_type": "display_data"
    },
    {
     "name": "stdout",
     "output_type": "stream",
     "text": [
      "CQADupstackGisRetrieval\n"
     ]
    },
    {
     "data": {
      "application/vnd.jupyter.widget-view+json": {
       "model_id": "0c20fe0a63224e7abd02268a0ab4620b",
       "version_major": 2,
       "version_minor": 0
      },
      "text/plain": [
       "Loading embeddings from disk:   0%|          | 0/37637 [00:00<?, ?row/s]"
      ]
     },
     "metadata": {},
     "output_type": "display_data"
    },
    {
     "data": {
      "application/vnd.jupyter.widget-view+json": {
       "model_id": "c7384f84b3ba44eaa63d76a310f0af0f",
       "version_major": 2,
       "version_minor": 0
      },
      "text/plain": [
       "Loading embeddings from disk:   0%|          | 0/885 [00:00<?, ?row/s]"
      ]
     },
     "metadata": {},
     "output_type": "display_data"
    },
    {
     "data": {
      "application/vnd.jupyter.widget-view+json": {
       "model_id": "4148133a80c14d9caac4928ca7b65951",
       "version_major": 2,
       "version_minor": 0
      },
      "text/plain": [
       "dense retrieval:   0%|          | 0/885 [00:00<?, ?query/s]"
      ]
     },
     "metadata": {},
     "output_type": "display_data"
    },
    {
     "data": {
      "application/vnd.jupyter.widget-view+json": {
       "model_id": "915ab7fb40614ab1996d0bf375d0378d",
       "version_major": 2,
       "version_minor": 0
      },
      "text/plain": [
       "dense retrieval:   0%|          | 0/885 [00:00<?, ?query/s]"
      ]
     },
     "metadata": {},
     "output_type": "display_data"
    },
    {
     "name": "stdout",
     "output_type": "stream",
     "text": [
      "CQADupstackMathematicaRetrieval\n"
     ]
    },
    {
     "data": {
      "application/vnd.jupyter.widget-view+json": {
       "model_id": "38d5ed9863694429924558c63e102399",
       "version_major": 2,
       "version_minor": 0
      },
      "text/plain": [
       "Loading embeddings from disk:   0%|          | 0/16705 [00:00<?, ?row/s]"
      ]
     },
     "metadata": {},
     "output_type": "display_data"
    },
    {
     "data": {
      "application/vnd.jupyter.widget-view+json": {
       "model_id": "4a421dfe724c4f9187e71bec6ecb9c43",
       "version_major": 2,
       "version_minor": 0
      },
      "text/plain": [
       "Loading embeddings from disk:   0%|          | 0/804 [00:00<?, ?row/s]"
      ]
     },
     "metadata": {},
     "output_type": "display_data"
    },
    {
     "data": {
      "application/vnd.jupyter.widget-view+json": {
       "model_id": "5dea694011c24e93b1984d85b5bdcf40",
       "version_major": 2,
       "version_minor": 0
      },
      "text/plain": [
       "dense retrieval:   0%|          | 0/804 [00:00<?, ?query/s]"
      ]
     },
     "metadata": {},
     "output_type": "display_data"
    },
    {
     "data": {
      "application/vnd.jupyter.widget-view+json": {
       "model_id": "f25c588bd0c446e39f2db82741ef4da2",
       "version_major": 2,
       "version_minor": 0
      },
      "text/plain": [
       "dense retrieval:   0%|          | 0/804 [00:00<?, ?query/s]"
      ]
     },
     "metadata": {},
     "output_type": "display_data"
    },
    {
     "name": "stdout",
     "output_type": "stream",
     "text": [
      "CQADupstackPhysicsRetrieval\n"
     ]
    },
    {
     "data": {
      "application/vnd.jupyter.widget-view+json": {
       "model_id": "89e5ba31ac2a4ea7bf879f319511b2e8",
       "version_major": 2,
       "version_minor": 0
      },
      "text/plain": [
       "Loading embeddings from disk:   0%|          | 0/38316 [00:00<?, ?row/s]"
      ]
     },
     "metadata": {},
     "output_type": "display_data"
    },
    {
     "data": {
      "application/vnd.jupyter.widget-view+json": {
       "model_id": "e1a264de454e4a81a50a3b3942207481",
       "version_major": 2,
       "version_minor": 0
      },
      "text/plain": [
       "Loading embeddings from disk:   0%|          | 0/1039 [00:00<?, ?row/s]"
      ]
     },
     "metadata": {},
     "output_type": "display_data"
    },
    {
     "data": {
      "application/vnd.jupyter.widget-view+json": {
       "model_id": "2f560e927d4d47ec81867276175a014a",
       "version_major": 2,
       "version_minor": 0
      },
      "text/plain": [
       "dense retrieval:   0%|          | 0/1039 [00:00<?, ?query/s]"
      ]
     },
     "metadata": {},
     "output_type": "display_data"
    },
    {
     "data": {
      "application/vnd.jupyter.widget-view+json": {
       "model_id": "30bfec77b0084f8591089dc59f5fd9a4",
       "version_major": 2,
       "version_minor": 0
      },
      "text/plain": [
       "dense retrieval:   0%|          | 0/1039 [00:00<?, ?query/s]"
      ]
     },
     "metadata": {},
     "output_type": "display_data"
    },
    {
     "name": "stdout",
     "output_type": "stream",
     "text": [
      "CQADupstackProgrammersRetrieval\n"
     ]
    },
    {
     "data": {
      "application/vnd.jupyter.widget-view+json": {
       "model_id": "7db5bde9cece453b96700712a9acf6eb",
       "version_major": 2,
       "version_minor": 0
      },
      "text/plain": [
       "Loading embeddings from disk:   0%|          | 0/32176 [00:00<?, ?row/s]"
      ]
     },
     "metadata": {},
     "output_type": "display_data"
    },
    {
     "data": {
      "application/vnd.jupyter.widget-view+json": {
       "model_id": "b0ceee00844b45e28ff490021575fcb8",
       "version_major": 2,
       "version_minor": 0
      },
      "text/plain": [
       "Loading embeddings from disk:   0%|          | 0/876 [00:00<?, ?row/s]"
      ]
     },
     "metadata": {},
     "output_type": "display_data"
    },
    {
     "data": {
      "application/vnd.jupyter.widget-view+json": {
       "model_id": "6f8be190f5874564898db9080d49b333",
       "version_major": 2,
       "version_minor": 0
      },
      "text/plain": [
       "dense retrieval:   0%|          | 0/876 [00:00<?, ?query/s]"
      ]
     },
     "metadata": {},
     "output_type": "display_data"
    },
    {
     "data": {
      "application/vnd.jupyter.widget-view+json": {
       "model_id": "11d4cee3b89940b3a31b20f34e8ad154",
       "version_major": 2,
       "version_minor": 0
      },
      "text/plain": [
       "dense retrieval:   0%|          | 0/876 [00:00<?, ?query/s]"
      ]
     },
     "metadata": {},
     "output_type": "display_data"
    },
    {
     "name": "stdout",
     "output_type": "stream",
     "text": [
      "CQADupstackStatsRetrieval\n"
     ]
    },
    {
     "data": {
      "application/vnd.jupyter.widget-view+json": {
       "model_id": "22ce41cf424f4d4b84acff464a28ba7f",
       "version_major": 2,
       "version_minor": 0
      },
      "text/plain": [
       "Loading embeddings from disk:   0%|          | 0/42269 [00:00<?, ?row/s]"
      ]
     },
     "metadata": {},
     "output_type": "display_data"
    },
    {
     "data": {
      "application/vnd.jupyter.widget-view+json": {
       "model_id": "1d220a7fdfe14ddfadfafd14fccfc135",
       "version_major": 2,
       "version_minor": 0
      },
      "text/plain": [
       "Loading embeddings from disk:   0%|          | 0/652 [00:00<?, ?row/s]"
      ]
     },
     "metadata": {},
     "output_type": "display_data"
    },
    {
     "data": {
      "application/vnd.jupyter.widget-view+json": {
       "model_id": "64adf9307d24420a8cb156cb433baae8",
       "version_major": 2,
       "version_minor": 0
      },
      "text/plain": [
       "dense retrieval:   0%|          | 0/652 [00:00<?, ?query/s]"
      ]
     },
     "metadata": {},
     "output_type": "display_data"
    },
    {
     "data": {
      "application/vnd.jupyter.widget-view+json": {
       "model_id": "e2dc6f68dc424cb3b2bbeecc202d8720",
       "version_major": 2,
       "version_minor": 0
      },
      "text/plain": [
       "dense retrieval:   0%|          | 0/652 [00:00<?, ?query/s]"
      ]
     },
     "metadata": {},
     "output_type": "display_data"
    },
    {
     "name": "stdout",
     "output_type": "stream",
     "text": [
      "CQADupstackTexRetrieval\n"
     ]
    },
    {
     "data": {
      "application/vnd.jupyter.widget-view+json": {
       "model_id": "f69591d195364ada975926f20d248a82",
       "version_major": 2,
       "version_minor": 0
      },
      "text/plain": [
       "Loading embeddings from disk:   0%|          | 0/68184 [00:00<?, ?row/s]"
      ]
     },
     "metadata": {},
     "output_type": "display_data"
    },
    {
     "data": {
      "application/vnd.jupyter.widget-view+json": {
       "model_id": "0b2815c724424f4d87305678564e1684",
       "version_major": 2,
       "version_minor": 0
      },
      "text/plain": [
       "Loading embeddings from disk:   0%|          | 0/2906 [00:00<?, ?row/s]"
      ]
     },
     "metadata": {},
     "output_type": "display_data"
    },
    {
     "data": {
      "application/vnd.jupyter.widget-view+json": {
       "model_id": "467bc78c8e784d7fb3f46a6feda35696",
       "version_major": 2,
       "version_minor": 0
      },
      "text/plain": [
       "dense retrieval:   0%|          | 0/2906 [00:00<?, ?query/s]"
      ]
     },
     "metadata": {},
     "output_type": "display_data"
    },
    {
     "data": {
      "application/vnd.jupyter.widget-view+json": {
       "model_id": "5d8716db5c96470f88e75c2b117ecca8",
       "version_major": 2,
       "version_minor": 0
      },
      "text/plain": [
       "dense retrieval:   0%|          | 0/2906 [00:00<?, ?query/s]"
      ]
     },
     "metadata": {},
     "output_type": "display_data"
    },
    {
     "name": "stdout",
     "output_type": "stream",
     "text": [
      "CQADupstackUnixRetrieval\n"
     ]
    },
    {
     "data": {
      "application/vnd.jupyter.widget-view+json": {
       "model_id": "4f1d93455f1646e5b15101681ec02c9d",
       "version_major": 2,
       "version_minor": 0
      },
      "text/plain": [
       "Loading embeddings from disk:   0%|          | 0/47382 [00:00<?, ?row/s]"
      ]
     },
     "metadata": {},
     "output_type": "display_data"
    },
    {
     "data": {
      "application/vnd.jupyter.widget-view+json": {
       "model_id": "b2798b9362f244a1b039736178ac0cae",
       "version_major": 2,
       "version_minor": 0
      },
      "text/plain": [
       "Loading embeddings from disk:   0%|          | 0/1072 [00:00<?, ?row/s]"
      ]
     },
     "metadata": {},
     "output_type": "display_data"
    },
    {
     "data": {
      "application/vnd.jupyter.widget-view+json": {
       "model_id": "63bb2b5755c343b49c988cb81f69323d",
       "version_major": 2,
       "version_minor": 0
      },
      "text/plain": [
       "dense retrieval:   0%|          | 0/1072 [00:00<?, ?query/s]"
      ]
     },
     "metadata": {},
     "output_type": "display_data"
    },
    {
     "data": {
      "application/vnd.jupyter.widget-view+json": {
       "model_id": "f3b4d23a3d27472383f72b1932790442",
       "version_major": 2,
       "version_minor": 0
      },
      "text/plain": [
       "dense retrieval:   0%|          | 0/1072 [00:00<?, ?query/s]"
      ]
     },
     "metadata": {},
     "output_type": "display_data"
    },
    {
     "name": "stdout",
     "output_type": "stream",
     "text": [
      "CQADupstackWebmastersRetrieval\n"
     ]
    },
    {
     "data": {
      "application/vnd.jupyter.widget-view+json": {
       "model_id": "87f8f5032c794aac84a922fb7aff9219",
       "version_major": 2,
       "version_minor": 0
      },
      "text/plain": [
       "Loading embeddings from disk:   0%|          | 0/17405 [00:00<?, ?row/s]"
      ]
     },
     "metadata": {},
     "output_type": "display_data"
    },
    {
     "data": {
      "application/vnd.jupyter.widget-view+json": {
       "model_id": "f38ad69dfa7c4581bb1ab56765fbb901",
       "version_major": 2,
       "version_minor": 0
      },
      "text/plain": [
       "Loading embeddings from disk:   0%|          | 0/506 [00:00<?, ?row/s]"
      ]
     },
     "metadata": {},
     "output_type": "display_data"
    },
    {
     "data": {
      "application/vnd.jupyter.widget-view+json": {
       "model_id": "5994659ae4c643dbad5f9ab0d41fe5da",
       "version_major": 2,
       "version_minor": 0
      },
      "text/plain": [
       "dense retrieval:   0%|          | 0/506 [00:00<?, ?query/s]"
      ]
     },
     "metadata": {},
     "output_type": "display_data"
    },
    {
     "data": {
      "application/vnd.jupyter.widget-view+json": {
       "model_id": "b3d5260c56ce4186832c31494ccda0b8",
       "version_major": 2,
       "version_minor": 0
      },
      "text/plain": [
       "dense retrieval:   0%|          | 0/506 [00:00<?, ?query/s]"
      ]
     },
     "metadata": {},
     "output_type": "display_data"
    },
    {
     "name": "stdout",
     "output_type": "stream",
     "text": [
      "CQADupstackWordpressRetrieval\n"
     ]
    },
    {
     "data": {
      "application/vnd.jupyter.widget-view+json": {
       "model_id": "da2d9cc597984513ac6c013ad6e48930",
       "version_major": 2,
       "version_minor": 0
      },
      "text/plain": [
       "Loading embeddings from disk:   0%|          | 0/48605 [00:00<?, ?row/s]"
      ]
     },
     "metadata": {},
     "output_type": "display_data"
    },
    {
     "data": {
      "application/vnd.jupyter.widget-view+json": {
       "model_id": "13cc9e99087d41b8a5ed08bde60b4632",
       "version_major": 2,
       "version_minor": 0
      },
      "text/plain": [
       "Loading embeddings from disk:   0%|          | 0/541 [00:00<?, ?row/s]"
      ]
     },
     "metadata": {},
     "output_type": "display_data"
    },
    {
     "data": {
      "application/vnd.jupyter.widget-view+json": {
       "model_id": "2ece03f33c91453bb928d8be9d54b8b1",
       "version_major": 2,
       "version_minor": 0
      },
      "text/plain": [
       "dense retrieval:   0%|          | 0/541 [00:00<?, ?query/s]"
      ]
     },
     "metadata": {},
     "output_type": "display_data"
    },
    {
     "data": {
      "application/vnd.jupyter.widget-view+json": {
       "model_id": "7e281e9a3ed94637b67d010c49146a9a",
       "version_major": 2,
       "version_minor": 0
      },
      "text/plain": [
       "dense retrieval:   0%|          | 0/541 [00:00<?, ?query/s]"
      ]
     },
     "metadata": {},
     "output_type": "display_data"
    },
    {
     "name": "stdout",
     "output_type": "stream",
     "text": [
      "ClimateFEVER\n"
     ]
    },
    {
     "data": {
      "application/vnd.jupyter.widget-view+json": {
       "model_id": "195b676668b84571a21181a9d2ee973f",
       "version_major": 2,
       "version_minor": 0
      },
      "text/plain": [
       "Loading embeddings from disk:   0%|          | 0/5416593 [00:00<?, ?row/s]"
      ]
     },
     "metadata": {},
     "output_type": "display_data"
    },
    {
     "data": {
      "application/vnd.jupyter.widget-view+json": {
       "model_id": "58f8d815c8ad44628d18cff581dbcef0",
       "version_major": 2,
       "version_minor": 0
      },
      "text/plain": [
       "Loading embeddings from disk:   0%|          | 0/1535 [00:00<?, ?row/s]"
      ]
     },
     "metadata": {},
     "output_type": "display_data"
    },
    {
     "data": {
      "application/vnd.jupyter.widget-view+json": {
       "model_id": "3f3877584298474fa2d29dccbd3e9c63",
       "version_major": 2,
       "version_minor": 0
      },
      "text/plain": [
       "dense retrieval:   0%|          | 0/1535 [00:00<?, ?query/s]"
      ]
     },
     "metadata": {},
     "output_type": "display_data"
    },
    {
     "data": {
      "application/vnd.jupyter.widget-view+json": {
       "model_id": "6c7b96ac1770455894c1b6c545394234",
       "version_major": 2,
       "version_minor": 0
      },
      "text/plain": [
       "dense retrieval:   0%|          | 0/1535 [00:00<?, ?query/s]"
      ]
     },
     "metadata": {},
     "output_type": "display_data"
    },
    {
     "name": "stdout",
     "output_type": "stream",
     "text": [
      "DBPedia\n"
     ]
    },
    {
     "data": {
      "application/vnd.jupyter.widget-view+json": {
       "model_id": "294ab3d3f2984313addae02d0c07fb03",
       "version_major": 2,
       "version_minor": 0
      },
      "text/plain": [
       "Loading embeddings from disk:   0%|          | 0/4635922 [00:00<?, ?row/s]"
      ]
     },
     "metadata": {},
     "output_type": "display_data"
    },
    {
     "data": {
      "application/vnd.jupyter.widget-view+json": {
       "model_id": "a184f62dcb2c4bdfb8855fbb51b952b4",
       "version_major": 2,
       "version_minor": 0
      },
      "text/plain": [
       "Loading embeddings from disk:   0%|          | 0/400 [00:00<?, ?row/s]"
      ]
     },
     "metadata": {},
     "output_type": "display_data"
    },
    {
     "data": {
      "application/vnd.jupyter.widget-view+json": {
       "model_id": "c3dcb834915648e88f0470687755c269",
       "version_major": 2,
       "version_minor": 0
      },
      "text/plain": [
       "dense retrieval:   0%|          | 0/400 [00:00<?, ?query/s]"
      ]
     },
     "metadata": {},
     "output_type": "display_data"
    },
    {
     "data": {
      "application/vnd.jupyter.widget-view+json": {
       "model_id": "2cd1ebcc723e4cb58b9100fbbb2af7ae",
       "version_major": 2,
       "version_minor": 0
      },
      "text/plain": [
       "dense retrieval:   0%|          | 0/400 [00:00<?, ?query/s]"
      ]
     },
     "metadata": {},
     "output_type": "display_data"
    },
    {
     "name": "stdout",
     "output_type": "stream",
     "text": [
      "FEVER\n"
     ]
    },
    {
     "data": {
      "application/vnd.jupyter.widget-view+json": {
       "model_id": "1d38a9458b624171ad44b140fd2060f6",
       "version_major": 2,
       "version_minor": 0
      },
      "text/plain": [
       "Loading embeddings from disk:   0%|          | 0/5416568 [00:00<?, ?row/s]"
      ]
     },
     "metadata": {},
     "output_type": "display_data"
    },
    {
     "data": {
      "application/vnd.jupyter.widget-view+json": {
       "model_id": "9fa1a61e25ef4b3da48dba0de65f9fb8",
       "version_major": 2,
       "version_minor": 0
      },
      "text/plain": [
       "Loading embeddings from disk:   0%|          | 0/6666 [00:00<?, ?row/s]"
      ]
     },
     "metadata": {},
     "output_type": "display_data"
    },
    {
     "data": {
      "application/vnd.jupyter.widget-view+json": {
       "model_id": "3daea239a67f4d21bf2e7e14dac99976",
       "version_major": 2,
       "version_minor": 0
      },
      "text/plain": [
       "dense retrieval:   0%|          | 0/6666 [00:00<?, ?query/s]"
      ]
     },
     "metadata": {},
     "output_type": "display_data"
    },
    {
     "data": {
      "application/vnd.jupyter.widget-view+json": {
       "model_id": "c1eb5b5007d04fa0903a60d08433afb0",
       "version_major": 2,
       "version_minor": 0
      },
      "text/plain": [
       "dense retrieval:   0%|          | 0/6666 [00:00<?, ?query/s]"
      ]
     },
     "metadata": {},
     "output_type": "display_data"
    },
    {
     "name": "stdout",
     "output_type": "stream",
     "text": [
      "FiQA2018\n"
     ]
    },
    {
     "data": {
      "application/vnd.jupyter.widget-view+json": {
       "model_id": "10e760e594c94eea8df5adf90e27aaef",
       "version_major": 2,
       "version_minor": 0
      },
      "text/plain": [
       "Loading embeddings from disk:   0%|          | 0/57638 [00:00<?, ?row/s]"
      ]
     },
     "metadata": {},
     "output_type": "display_data"
    },
    {
     "data": {
      "application/vnd.jupyter.widget-view+json": {
       "model_id": "87f3745402f3478ab8e450b396b703aa",
       "version_major": 2,
       "version_minor": 0
      },
      "text/plain": [
       "Loading embeddings from disk:   0%|          | 0/648 [00:00<?, ?row/s]"
      ]
     },
     "metadata": {},
     "output_type": "display_data"
    },
    {
     "data": {
      "application/vnd.jupyter.widget-view+json": {
       "model_id": "f364731e09cf41ad9b441773a4b05de5",
       "version_major": 2,
       "version_minor": 0
      },
      "text/plain": [
       "dense retrieval:   0%|          | 0/648 [00:00<?, ?query/s]"
      ]
     },
     "metadata": {},
     "output_type": "display_data"
    },
    {
     "data": {
      "application/vnd.jupyter.widget-view+json": {
       "model_id": "e0a83a05cd504de082a10f33b572bf70",
       "version_major": 2,
       "version_minor": 0
      },
      "text/plain": [
       "dense retrieval:   0%|          | 0/648 [00:00<?, ?query/s]"
      ]
     },
     "metadata": {},
     "output_type": "display_data"
    },
    {
     "name": "stdout",
     "output_type": "stream",
     "text": [
      "HotpotQA\n"
     ]
    },
    {
     "data": {
      "application/vnd.jupyter.widget-view+json": {
       "model_id": "b47130088ef447f28318a278ac9821d9",
       "version_major": 2,
       "version_minor": 0
      },
      "text/plain": [
       "Loading embeddings from disk:   0%|          | 0/5233329 [00:00<?, ?row/s]"
      ]
     },
     "metadata": {},
     "output_type": "display_data"
    },
    {
     "data": {
      "application/vnd.jupyter.widget-view+json": {
       "model_id": "5bebd843f45b4499967234435e450550",
       "version_major": 2,
       "version_minor": 0
      },
      "text/plain": [
       "Loading embeddings from disk:   0%|          | 0/7405 [00:00<?, ?row/s]"
      ]
     },
     "metadata": {},
     "output_type": "display_data"
    },
    {
     "data": {
      "application/vnd.jupyter.widget-view+json": {
       "model_id": "35583f2ddced4f4f8bec6b3fb7172a82",
       "version_major": 2,
       "version_minor": 0
      },
      "text/plain": [
       "dense retrieval:   0%|          | 0/7405 [00:00<?, ?query/s]"
      ]
     },
     "metadata": {},
     "output_type": "display_data"
    },
    {
     "data": {
      "application/vnd.jupyter.widget-view+json": {
       "model_id": "45a86458e93a41ffa6ec81da38fc43ad",
       "version_major": 2,
       "version_minor": 0
      },
      "text/plain": [
       "dense retrieval:   0%|          | 0/7405 [00:00<?, ?query/s]"
      ]
     },
     "metadata": {},
     "output_type": "display_data"
    },
    {
     "name": "stdout",
     "output_type": "stream",
     "text": [
      "MSMARCO\n"
     ]
    },
    {
     "data": {
      "application/vnd.jupyter.widget-view+json": {
       "model_id": "715f2168fc8146b6b34aca3db0babf56",
       "version_major": 2,
       "version_minor": 0
      },
      "text/plain": [
       "Loading embeddings from disk:   0%|          | 0/8841823 [00:00<?, ?row/s]"
      ]
     },
     "metadata": {},
     "output_type": "display_data"
    },
    {
     "data": {
      "application/vnd.jupyter.widget-view+json": {
       "model_id": "d52ca0ae3ba64f42bdac73bbe4fd64eb",
       "version_major": 2,
       "version_minor": 0
      },
      "text/plain": [
       "Loading embeddings from disk:   0%|          | 0/6980 [00:00<?, ?row/s]"
      ]
     },
     "metadata": {},
     "output_type": "display_data"
    },
    {
     "data": {
      "application/vnd.jupyter.widget-view+json": {
       "model_id": "c646882944f84fe0aee9be5a20a3c768",
       "version_major": 2,
       "version_minor": 0
      },
      "text/plain": [
       "dense retrieval:   0%|          | 0/6980 [00:00<?, ?query/s]"
      ]
     },
     "metadata": {},
     "output_type": "display_data"
    },
    {
     "data": {
      "application/vnd.jupyter.widget-view+json": {
       "model_id": "f563743b23e947fc97f50c18bf09594a",
       "version_major": 2,
       "version_minor": 0
      },
      "text/plain": [
       "dense retrieval:   0%|          | 0/6980 [00:00<?, ?query/s]"
      ]
     },
     "metadata": {},
     "output_type": "display_data"
    },
    {
     "name": "stdout",
     "output_type": "stream",
     "text": [
      "NFCorpus\n"
     ]
    },
    {
     "data": {
      "application/vnd.jupyter.widget-view+json": {
       "model_id": "0865aeadfb774d619c55afdd3ea65c67",
       "version_major": 2,
       "version_minor": 0
      },
      "text/plain": [
       "Loading embeddings from disk:   0%|          | 0/3633 [00:00<?, ?row/s]"
      ]
     },
     "metadata": {},
     "output_type": "display_data"
    },
    {
     "data": {
      "application/vnd.jupyter.widget-view+json": {
       "model_id": "61e5557172d740b69bc6e2bce1d8d047",
       "version_major": 2,
       "version_minor": 0
      },
      "text/plain": [
       "Loading embeddings from disk:   0%|          | 0/323 [00:00<?, ?row/s]"
      ]
     },
     "metadata": {},
     "output_type": "display_data"
    },
    {
     "data": {
      "application/vnd.jupyter.widget-view+json": {
       "model_id": "31f70d33c94641d196bcc91d6b61bedf",
       "version_major": 2,
       "version_minor": 0
      },
      "text/plain": [
       "dense retrieval:   0%|          | 0/323 [00:00<?, ?query/s]"
      ]
     },
     "metadata": {},
     "output_type": "display_data"
    },
    {
     "data": {
      "application/vnd.jupyter.widget-view+json": {
       "model_id": "ecbaac2d880846e1a289b85c847bd48b",
       "version_major": 2,
       "version_minor": 0
      },
      "text/plain": [
       "dense retrieval:   0%|          | 0/323 [00:00<?, ?query/s]"
      ]
     },
     "metadata": {},
     "output_type": "display_data"
    },
    {
     "name": "stdout",
     "output_type": "stream",
     "text": [
      "NQ\n"
     ]
    },
    {
     "data": {
      "application/vnd.jupyter.widget-view+json": {
       "model_id": "7453f035540f4fd4a10bb45b4719ba00",
       "version_major": 2,
       "version_minor": 0
      },
      "text/plain": [
       "Loading embeddings from disk:   0%|          | 0/2681468 [00:00<?, ?row/s]"
      ]
     },
     "metadata": {},
     "output_type": "display_data"
    },
    {
     "data": {
      "application/vnd.jupyter.widget-view+json": {
       "model_id": "34afa8d36e194017a908579ca3df63db",
       "version_major": 2,
       "version_minor": 0
      },
      "text/plain": [
       "Loading embeddings from disk:   0%|          | 0/3452 [00:00<?, ?row/s]"
      ]
     },
     "metadata": {},
     "output_type": "display_data"
    },
    {
     "data": {
      "application/vnd.jupyter.widget-view+json": {
       "model_id": "d961efc80e994ca7a6f5b1ec78f25623",
       "version_major": 2,
       "version_minor": 0
      },
      "text/plain": [
       "dense retrieval:   0%|          | 0/3452 [00:00<?, ?query/s]"
      ]
     },
     "metadata": {},
     "output_type": "display_data"
    },
    {
     "data": {
      "application/vnd.jupyter.widget-view+json": {
       "model_id": "e6232d94cc634e6b936b7cda8496c994",
       "version_major": 2,
       "version_minor": 0
      },
      "text/plain": [
       "dense retrieval:   0%|          | 0/3452 [00:00<?, ?query/s]"
      ]
     },
     "metadata": {},
     "output_type": "display_data"
    },
    {
     "name": "stdout",
     "output_type": "stream",
     "text": [
      "QuoraRetrieval\n"
     ]
    },
    {
     "data": {
      "application/vnd.jupyter.widget-view+json": {
       "model_id": "1a14af8e9ee445baa3e0560d04812e6c",
       "version_major": 2,
       "version_minor": 0
      },
      "text/plain": [
       "Loading embeddings from disk:   0%|          | 0/522931 [00:00<?, ?row/s]"
      ]
     },
     "metadata": {},
     "output_type": "display_data"
    },
    {
     "data": {
      "application/vnd.jupyter.widget-view+json": {
       "model_id": "313bd633fe0d458fa790d37c1bcb5c47",
       "version_major": 2,
       "version_minor": 0
      },
      "text/plain": [
       "Loading embeddings from disk:   0%|          | 0/10000 [00:00<?, ?row/s]"
      ]
     },
     "metadata": {},
     "output_type": "display_data"
    },
    {
     "data": {
      "application/vnd.jupyter.widget-view+json": {
       "model_id": "7ce63f43a0504c88a5eba17a30f600b5",
       "version_major": 2,
       "version_minor": 0
      },
      "text/plain": [
       "dense retrieval:   0%|          | 0/10000 [00:00<?, ?query/s]"
      ]
     },
     "metadata": {},
     "output_type": "display_data"
    },
    {
     "data": {
      "application/vnd.jupyter.widget-view+json": {
       "model_id": "2721b58fa48349b89b8cb90a65922700",
       "version_major": 2,
       "version_minor": 0
      },
      "text/plain": [
       "dense retrieval:   0%|          | 0/10000 [00:00<?, ?query/s]"
      ]
     },
     "metadata": {},
     "output_type": "display_data"
    },
    {
     "name": "stdout",
     "output_type": "stream",
     "text": [
      "SCIDOCS\n"
     ]
    },
    {
     "data": {
      "application/vnd.jupyter.widget-view+json": {
       "model_id": "894ee6221cde4a7cbcf4d4572f25609d",
       "version_major": 2,
       "version_minor": 0
      },
      "text/plain": [
       "Loading embeddings from disk:   0%|          | 0/25657 [00:00<?, ?row/s]"
      ]
     },
     "metadata": {},
     "output_type": "display_data"
    },
    {
     "data": {
      "application/vnd.jupyter.widget-view+json": {
       "model_id": "331628439a6a48a3924f356f18fb2e1a",
       "version_major": 2,
       "version_minor": 0
      },
      "text/plain": [
       "Loading embeddings from disk:   0%|          | 0/1000 [00:00<?, ?row/s]"
      ]
     },
     "metadata": {},
     "output_type": "display_data"
    },
    {
     "data": {
      "application/vnd.jupyter.widget-view+json": {
       "model_id": "060f7ac3ae104df8a32895fa154aa66e",
       "version_major": 2,
       "version_minor": 0
      },
      "text/plain": [
       "dense retrieval:   0%|          | 0/1000 [00:00<?, ?query/s]"
      ]
     },
     "metadata": {},
     "output_type": "display_data"
    },
    {
     "data": {
      "application/vnd.jupyter.widget-view+json": {
       "model_id": "28f655df3e044379bf0ac5e0579761ac",
       "version_major": 2,
       "version_minor": 0
      },
      "text/plain": [
       "dense retrieval:   0%|          | 0/1000 [00:00<?, ?query/s]"
      ]
     },
     "metadata": {},
     "output_type": "display_data"
    },
    {
     "name": "stdout",
     "output_type": "stream",
     "text": [
      "SciFact\n"
     ]
    },
    {
     "data": {
      "application/vnd.jupyter.widget-view+json": {
       "model_id": "9df92127593a4b29aa2a1f7f33060e1e",
       "version_major": 2,
       "version_minor": 0
      },
      "text/plain": [
       "Loading embeddings from disk:   0%|          | 0/5183 [00:00<?, ?row/s]"
      ]
     },
     "metadata": {},
     "output_type": "display_data"
    },
    {
     "data": {
      "application/vnd.jupyter.widget-view+json": {
       "model_id": "07cd5bd7767e4f2d86f20e496188b3b5",
       "version_major": 2,
       "version_minor": 0
      },
      "text/plain": [
       "Loading embeddings from disk:   0%|          | 0/300 [00:00<?, ?row/s]"
      ]
     },
     "metadata": {},
     "output_type": "display_data"
    },
    {
     "data": {
      "application/vnd.jupyter.widget-view+json": {
       "model_id": "71cd6b5ec4ce41219bf965e569b674d5",
       "version_major": 2,
       "version_minor": 0
      },
      "text/plain": [
       "dense retrieval:   0%|          | 0/300 [00:00<?, ?query/s]"
      ]
     },
     "metadata": {},
     "output_type": "display_data"
    },
    {
     "data": {
      "application/vnd.jupyter.widget-view+json": {
       "model_id": "292937666fcc48f9bb34628dc5f33520",
       "version_major": 2,
       "version_minor": 0
      },
      "text/plain": [
       "dense retrieval:   0%|          | 0/300 [00:00<?, ?query/s]"
      ]
     },
     "metadata": {},
     "output_type": "display_data"
    },
    {
     "name": "stdout",
     "output_type": "stream",
     "text": [
      "TRECCOVID\n"
     ]
    },
    {
     "data": {
      "application/vnd.jupyter.widget-view+json": {
       "model_id": "d41613cdfc0f4cbf89a3c57b3309b69c",
       "version_major": 2,
       "version_minor": 0
      },
      "text/plain": [
       "Loading embeddings from disk:   0%|          | 0/171332 [00:00<?, ?row/s]"
      ]
     },
     "metadata": {},
     "output_type": "display_data"
    },
    {
     "data": {
      "application/vnd.jupyter.widget-view+json": {
       "model_id": "6f12060dbf584629ae7b7ea859f2526e",
       "version_major": 2,
       "version_minor": 0
      },
      "text/plain": [
       "Loading embeddings from disk:   0%|          | 0/50 [00:00<?, ?row/s]"
      ]
     },
     "metadata": {},
     "output_type": "display_data"
    },
    {
     "data": {
      "application/vnd.jupyter.widget-view+json": {
       "model_id": "e96bce209e59453dbaaee4e5f8451f1a",
       "version_major": 2,
       "version_minor": 0
      },
      "text/plain": [
       "dense retrieval:   0%|          | 0/50 [00:00<?, ?query/s]"
      ]
     },
     "metadata": {},
     "output_type": "display_data"
    },
    {
     "data": {
      "application/vnd.jupyter.widget-view+json": {
       "model_id": "ff1bc7deaa9d44b3bad9c181fc69ce2f",
       "version_major": 2,
       "version_minor": 0
      },
      "text/plain": [
       "dense retrieval:   0%|          | 0/50 [00:00<?, ?query/s]"
      ]
     },
     "metadata": {},
     "output_type": "display_data"
    },
    {
     "name": "stdout",
     "output_type": "stream",
     "text": [
      "Touche2020\n"
     ]
    },
    {
     "data": {
      "application/vnd.jupyter.widget-view+json": {
       "model_id": "2d28a753a5b94a70a90187dfc7e03516",
       "version_major": 2,
       "version_minor": 0
      },
      "text/plain": [
       "Loading embeddings from disk:   0%|          | 0/382545 [00:00<?, ?row/s]"
      ]
     },
     "metadata": {},
     "output_type": "display_data"
    },
    {
     "data": {
      "application/vnd.jupyter.widget-view+json": {
       "model_id": "421dc4b66030477eaf53f79f12078d72",
       "version_major": 2,
       "version_minor": 0
      },
      "text/plain": [
       "Loading embeddings from disk:   0%|          | 0/49 [00:00<?, ?row/s]"
      ]
     },
     "metadata": {},
     "output_type": "display_data"
    },
    {
     "data": {
      "application/vnd.jupyter.widget-view+json": {
       "model_id": "b351b82e17c14594a6af2eae6cbc8b96",
       "version_major": 2,
       "version_minor": 0
      },
      "text/plain": [
       "dense retrieval:   0%|          | 0/49 [00:00<?, ?query/s]"
      ]
     },
     "metadata": {},
     "output_type": "display_data"
    },
    {
     "data": {
      "application/vnd.jupyter.widget-view+json": {
       "model_id": "a6630e5669e24b1bbfd69393a8d4284d",
       "version_major": 2,
       "version_minor": 0
      },
      "text/plain": [
       "dense retrieval:   0%|          | 0/49 [00:00<?, ?query/s]"
      ]
     },
     "metadata": {},
     "output_type": "display_data"
    }
   ],
   "source": [
    "names = [p.parent.name for p in sorted(embeddings_dataset_path.glob(\"*/embeddings\"))]\n",
    "print(f\"Scoring: {names}\")\n",
    "ndcg10_scores_unquantized = {}\n",
    "ndcg10_scores_quantized = {}\n",
    "for name in tqdm(names):\n",
    "    print(name)\n",
    "    emb_dir = embeddings_dataset_path / name / \"embeddings\"\n",
    "    doc_emb_file_paths = sorted(emb_dir.glob(\"documents*.parquet\"))\n",
    "    query_emb_file_paths = sorted(emb_dir.glob(\"queries*.parquet\"))\n",
    "    doc_ids, doc_emb = load_embeddings(doc_emb_file_paths, id_column_name=COLUMN_DOC_ID, truncate_dim=TRUNCATION_DIM)\n",
    "    query_ids, query_emb = load_embeddings(query_emb_file_paths, id_column_name=COLUMN_QUERY_ID, truncate_dim=TRUNCATION_DIM)\n",
    "    qrel = load_mteb_qrels(name)\n",
    "    scores = dense_retrieval(query_ids, doc_ids, query_emb, doc_emb, 10)\n",
    "    scores_quant = dense_retrieval(query_ids, doc_ids, query_emb, doc_emb, 10, SCALAR_QUANTIZATION_LIMIT)\n",
    "    ndcg10_scores_unquantized[name] = beir_evaluate(qrel, scores, k_values=[10])[0][\"NDCG@10\"]\n",
    "    ndcg10_scores_quantized[name] = beir_evaluate(qrel, scores_quant, k_values=[10])[0][\"NDCG@10\"]"
   ]
  },
  {
   "cell_type": "code",
   "execution_count": 19,
   "id": "55b746d9-1dd5-4424-9411-4e45181de39c",
   "metadata": {},
   "outputs": [
    {
     "data": {
      "text/html": [
       "<div>\n",
       "<style scoped>\n",
       "    .dataframe tbody tr th:only-of-type {\n",
       "        vertical-align: middle;\n",
       "    }\n",
       "\n",
       "    .dataframe tbody tr th {\n",
       "        vertical-align: top;\n",
       "    }\n",
       "\n",
       "    .dataframe thead th {\n",
       "        text-align: right;\n",
       "    }\n",
       "</style>\n",
       "<table border=\"1\" class=\"dataframe\">\n",
       "  <thead>\n",
       "    <tr style=\"text-align: right;\">\n",
       "      <th></th>\n",
       "      <th>unquantized</th>\n",
       "      <th>quantized</th>\n",
       "    </tr>\n",
       "  </thead>\n",
       "  <tbody>\n",
       "    <tr>\n",
       "      <th>ArguAna</th>\n",
       "      <td>0.584760</td>\n",
       "      <td>0.579530</td>\n",
       "    </tr>\n",
       "    <tr>\n",
       "      <th>CQADupstackRetrieval</th>\n",
       "      <td>0.442101</td>\n",
       "      <td>0.433432</td>\n",
       "    </tr>\n",
       "    <tr>\n",
       "      <th>ClimateFEVER</th>\n",
       "      <td>0.362290</td>\n",
       "      <td>0.360640</td>\n",
       "    </tr>\n",
       "    <tr>\n",
       "      <th>DBPedia</th>\n",
       "      <td>0.448260</td>\n",
       "      <td>0.437160</td>\n",
       "    </tr>\n",
       "    <tr>\n",
       "      <th>FEVER</th>\n",
       "      <td>0.872240</td>\n",
       "      <td>0.866000</td>\n",
       "    </tr>\n",
       "    <tr>\n",
       "      <th>FiQA2018</th>\n",
       "      <td>0.416710</td>\n",
       "      <td>0.412580</td>\n",
       "    </tr>\n",
       "    <tr>\n",
       "      <th>HotpotQA</th>\n",
       "      <td>0.691740</td>\n",
       "      <td>0.680130</td>\n",
       "    </tr>\n",
       "    <tr>\n",
       "      <th>MSMARCO</th>\n",
       "      <td>0.412490</td>\n",
       "      <td>0.405980</td>\n",
       "    </tr>\n",
       "    <tr>\n",
       "      <th>NFCorpus</th>\n",
       "      <td>0.357990</td>\n",
       "      <td>0.357280</td>\n",
       "    </tr>\n",
       "    <tr>\n",
       "      <th>NQ</th>\n",
       "      <td>0.616690</td>\n",
       "      <td>0.610180</td>\n",
       "    </tr>\n",
       "    <tr>\n",
       "      <th>QuoraRetrieval</th>\n",
       "      <td>0.871700</td>\n",
       "      <td>0.868370</td>\n",
       "    </tr>\n",
       "    <tr>\n",
       "      <th>SCIDOCS</th>\n",
       "      <td>0.212350</td>\n",
       "      <td>0.208740</td>\n",
       "    </tr>\n",
       "    <tr>\n",
       "      <th>SciFact</th>\n",
       "      <td>0.698110</td>\n",
       "      <td>0.694080</td>\n",
       "    </tr>\n",
       "    <tr>\n",
       "      <th>TRECCOVID</th>\n",
       "      <td>0.833940</td>\n",
       "      <td>0.832810</td>\n",
       "    </tr>\n",
       "    <tr>\n",
       "      <th>Touche2020</th>\n",
       "      <td>0.313680</td>\n",
       "      <td>0.312450</td>\n",
       "    </tr>\n",
       "  </tbody>\n",
       "</table>\n",
       "</div>"
      ],
      "text/plain": [
       "                      unquantized  quantized\n",
       "ArguAna                  0.584760   0.579530\n",
       "CQADupstackRetrieval     0.442101   0.433432\n",
       "ClimateFEVER             0.362290   0.360640\n",
       "DBPedia                  0.448260   0.437160\n",
       "FEVER                    0.872240   0.866000\n",
       "FiQA2018                 0.416710   0.412580\n",
       "HotpotQA                 0.691740   0.680130\n",
       "MSMARCO                  0.412490   0.405980\n",
       "NFCorpus                 0.357990   0.357280\n",
       "NQ                       0.616690   0.610180\n",
       "QuoraRetrieval           0.871700   0.868370\n",
       "SCIDOCS                  0.212350   0.208740\n",
       "SciFact                  0.698110   0.694080\n",
       "TRECCOVID                0.833940   0.832810\n",
       "Touche2020               0.313680   0.312450"
      ]
     },
     "execution_count": 19,
     "metadata": {},
     "output_type": "execute_result"
    }
   ],
   "source": [
    "df_ndcg10 = pd.DataFrame({\"unquantized\": ndcg10_scores_unquantized, \"quantized\": ndcg10_scores_quantized})\n",
    "\n",
    "# Cache results to CSV.\n",
    "df_ndcg10.to_csv(\"ndcgs_validation.csv\")\n",
    "\n",
    "# Roll up CQA Dupstack Retrieval.\n",
    "is_cqa = df_ndcg10.index.to_series().str.startswith(\"CQA\")\n",
    "cqa_mean = df_ndcg10.loc[is_cqa].mean().to_frame().T\n",
    "cqa_mean.index = [\"CQADupstackRetrieval\"]\n",
    "df_ndcg10 = pd.concat([df_ndcg10.loc[~is_cqa], cqa_mean]).sort_index()\n",
    "\n",
    "# Show scores across MTEB retrieval.\n",
    "df_ndcg10"
   ]
  },
  {
   "cell_type": "code",
   "execution_count": 20,
   "id": "0f4587e9-b0a4-4c08-9ff2-b49215b0722c",
   "metadata": {},
   "outputs": [
    {
     "data": {
      "text/plain": [
       "unquantized    0.542337\n",
       "quantized      0.537291\n",
       "dtype: float64"
      ]
     },
     "execution_count": 20,
     "metadata": {},
     "output_type": "execute_result"
    }
   ],
   "source": [
    "# Print mean MTEB Retrieval scores.\n",
    "df_ndcg10.mean()"
   ]
  },
  {
   "cell_type": "code",
   "execution_count": null,
   "id": "fe3afb8c-dd02-44e9-9fc3-2e4e9a9c4dd1",
   "metadata": {},
   "outputs": [],
   "source": []
  }
 ],
 "metadata": {
  "kernelspec": {
   "display_name": "Python 3 (ipykernel)",
   "language": "python",
   "name": "python3"
  },
  "language_info": {
   "codemirror_mode": {
    "name": "ipython",
    "version": 3
   },
   "file_extension": ".py",
   "mimetype": "text/x-python",
   "name": "python",
   "nbconvert_exporter": "python",
   "pygments_lexer": "ipython3",
   "version": "3.11.7"
  }
 },
 "nbformat": 4,
 "nbformat_minor": 5
}
